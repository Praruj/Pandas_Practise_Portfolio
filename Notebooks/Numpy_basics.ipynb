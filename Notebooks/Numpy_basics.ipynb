{
 "cells": [
  {
   "cell_type": "markdown",
   "id": "0c842753",
   "metadata": {},
   "source": [
    "# Numpy: Numerical python. \n",
    "Numpy's array objects as the lingua franca for the data exchange.\n",
    "1. ndarray: multidimensional array providing fast array- oriented airthmetic operations and flexible broadcasting operations.\n",
    "2. Mathematical functions for fast operation on entire arrays of data without writting loops.\n",
    "3.  Tools for reading/writting array data to disk and working with memmory-mapped files.\n",
    "4. Linear algebra, random number generation and fourier transform capabilities. \n",
    "\n",
    "NumPy provides easy to use C API, to pass data to external libraries written in low-level languages.  \n",
    "5. It is designed for efficienctyon large arrays of data. "
   ]
  },
  {
   "cell_type": "code",
   "execution_count": 2,
   "id": "4aa3bf5d",
   "metadata": {},
   "outputs": [
    {
     "name": "stdout",
     "output_type": "stream",
     "text": [
      "CPU times: total: 0 ns\n",
      "Wall time: 19 ms\n",
      "CPU times: total: 62.5 ms\n",
      "Wall time: 422 ms\n"
     ]
    }
   ],
   "source": [
    "import numpy as np\n",
    "myaray= np.arange(1000000)\n",
    "my_list= list(range(1000000))\n",
    "\n",
    "# numpy based algorithms are generally 10 to 100 times faster than pure -python counterparts and use less memory.\n",
    "%time for i in range(10): myaray2= myaray*2\n",
    "%time for j in range(10): my_list2=[x*2 for x in my_list]"
   ]
  },
  {
   "cell_type": "code",
   "execution_count": 3,
   "id": "158b3adb",
   "metadata": {},
   "outputs": [
    {
     "data": {
      "text/plain": [
       "array([[ 2.13901815, -1.51887991, -0.34150388,  1.63804391, -0.0829884 ],\n",
       "       [-1.34887962,  1.57999462,  5.91122049, -1.97174227,  0.74196738]])"
      ]
     },
     "execution_count": 3,
     "metadata": {},
     "output_type": "execute_result"
    }
   ],
   "source": [
    "# N-dimensional array object or ndarray which is fast, flexible container for large datasets in python.\n",
    "data=np.random.randn(2,5)\n",
    "data*10\n",
    "data+data"
   ]
  },
  {
   "cell_type": "code",
   "execution_count": 4,
   "id": "0da4ea28",
   "metadata": {},
   "outputs": [
    {
     "data": {
      "text/plain": [
       "dtype('float64')"
      ]
     },
     "execution_count": 4,
     "metadata": {},
     "output_type": "execute_result"
    }
   ],
   "source": [
    "# all elements must be same type. Every array has shape, a tuple indicating the size of each dimension, and a dtype, an object describing the datatype of the array. \n",
    "data.shape\n",
    "data.dtype\n",
    "\n",
    "# \"array\",\"Numpy array\" or \"ndarray\" in the text with few exceptions they all refere to the smae thing: the ndarray object."
   ]
  },
  {
   "cell_type": "code",
   "execution_count": 5,
   "id": "289e0a90",
   "metadata": {},
   "outputs": [
    {
     "data": {
      "text/plain": [
       "array([6. , 7. , 8. , 9.1])"
      ]
     },
     "execution_count": 5,
     "metadata": {},
     "output_type": "execute_result"
    }
   ],
   "source": [
    "# creating ndarrays:\n",
    "\n",
    "data1=[6,7,8,9.1]\n",
    "arr1=np.array(data1)\n",
    "arr1"
   ]
  },
  {
   "cell_type": "code",
   "execution_count": 6,
   "id": "fdd28b8e",
   "metadata": {},
   "outputs": [
    {
     "data": {
      "text/plain": [
       "array([[1, 2, 3, 4],\n",
       "       [4, 5, 6, 7]])"
      ]
     },
     "execution_count": 6,
     "metadata": {},
     "output_type": "execute_result"
    }
   ],
   "source": [
    "# nested sequence, like a list of equal length lists, will be converted into a multidimensional array.\n",
    "\n",
    "data2=[[1,2,3,4],[4,5,6,7]]\n",
    "array2=np.array(data2)\n",
    "array2"
   ]
  },
  {
   "cell_type": "code",
   "execution_count": 8,
   "id": "465cf67a",
   "metadata": {},
   "outputs": [
    {
     "data": {
      "text/plain": [
       "(2, 4)"
      ]
     },
     "execution_count": 8,
     "metadata": {},
     "output_type": "execute_result"
    }
   ],
   "source": [
    "# the numpy array has two-dimensions with shape intended from the data. \n",
    "array2.ndim #2 is answer\n",
    "array2.shape"
   ]
  },
  {
   "cell_type": "code",
   "execution_count": null,
   "id": "8a1c2e36",
   "metadata": {},
   "outputs": [
    {
     "data": {
      "text/plain": [
       "array([[0., 0., 0.],\n",
       "       [0., 0., 0.]])"
      ]
     },
     "execution_count": 13,
     "metadata": {},
     "output_type": "execute_result"
    }
   ],
   "source": [
    "# There are other function to create arrays. for eg: zeroes and ones to create 0s and 1s respectively, with given length or shape. \n",
    "\n",
    "np.zeros(3)\n",
    "np.ones((1,2))\n",
    "np.empty((2,3))\n",
    "\n",
    "#similarly arange is an array value based version of built in python range functions #which is used in first example. \n",
    "# Since numpy is focused on numerical computing, the data type, if not specified it will return float64 in many cases."
   ]
  }
 ],
 "metadata": {
  "kernelspec": {
   "display_name": ".venv",
   "language": "python",
   "name": "python3"
  },
  "language_info": {
   "codemirror_mode": {
    "name": "ipython",
    "version": 3
   },
   "file_extension": ".py",
   "mimetype": "text/x-python",
   "name": "python",
   "nbconvert_exporter": "python",
   "pygments_lexer": "ipython3",
   "version": "3.10.0"
  }
 },
 "nbformat": 4,
 "nbformat_minor": 5
}
