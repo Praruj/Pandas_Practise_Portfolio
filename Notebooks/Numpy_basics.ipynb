{
 "cells": [
  {
   "cell_type": "markdown",
   "id": "0c842753",
   "metadata": {},
   "source": [
    "# Numpy: Numerical python. \n",
    "Numpy's array objects as the lingua franca for the data exchange.\n",
    "1. ndarray: multidimensional array providing fast array- oriented airthmetic operations and flexible broadcasting operations.\n",
    "2. Mathematical functions for fast operation on entire arrays of data without writting loops.\n",
    "3.  Tools for reading/writting array data to disk and working with memmory-mapped files.\n",
    "4. Linear algebra, random number generation and fourier transform capabilities. \n",
    "\n",
    "NumPy provides easy to use C API, to pass data to external libraries written in low-level languages.  \n",
    "5. It is designed for efficienctyon large arrays of data. "
   ]
  },
  {
   "cell_type": "code",
   "execution_count": 27,
   "id": "4aa3bf5d",
   "metadata": {},
   "outputs": [
    {
     "name": "stdout",
     "output_type": "stream",
     "text": [
      "CPU times: total: 0 ns\n",
      "Wall time: 23 ms\n",
      "CPU times: total: 109 ms\n",
      "Wall time: 431 ms\n"
     ]
    }
   ],
   "source": [
    "import numpy as np\n",
    "myaray= np.arange(1000000)\n",
    "my_list= list(range(1000000))\n",
    "\n",
    "# numpy based algorithms are generally 10 to 100 times faster than pure -python counterparts and use less memory.\n",
    "%time for i in range(10): myaray2= myaray*2\n",
    "%time for j in range(10): my_list2=[x*2 for x in my_list]"
   ]
  },
  {
   "cell_type": "code",
   "execution_count": 28,
   "id": "158b3adb",
   "metadata": {},
   "outputs": [
    {
     "data": {
      "text/plain": [
       "array([[-1.16734776, -2.39322103,  1.74353703,  2.19686291,  0.11436027],\n",
       "       [ 2.1488396 ,  0.78087784, -1.27845166,  0.62303354,  2.35296017]])"
      ]
     },
     "execution_count": 28,
     "metadata": {},
     "output_type": "execute_result"
    }
   ],
   "source": [
    "# N-dimensional array object or ndarray which is fast, flexible container for large datasets in python.\n",
    "import numpy as np\n",
    "data=np.random.randn(2,5)\n",
    "data*10\n",
    "data+data"
   ]
  },
  {
   "cell_type": "code",
   "execution_count": 29,
   "id": "0da4ea28",
   "metadata": {},
   "outputs": [
    {
     "data": {
      "text/plain": [
       "dtype('float64')"
      ]
     },
     "execution_count": 29,
     "metadata": {},
     "output_type": "execute_result"
    }
   ],
   "source": [
    "# all elements must be same type. Every array has shape, a tuple indicating the size of each dimension, and a dtype, an object describing the datatype of the array. \n",
    "data.shape\n",
    "data.dtype\n",
    "\n",
    "# \"array\",\"Numpy array\" or \"ndarray\" in the text with few exceptions they all refere to the smae thing: the ndarray object."
   ]
  },
  {
   "cell_type": "code",
   "execution_count": 30,
   "id": "289e0a90",
   "metadata": {},
   "outputs": [
    {
     "data": {
      "text/plain": [
       "array([6. , 7. , 8. , 9.1])"
      ]
     },
     "execution_count": 30,
     "metadata": {},
     "output_type": "execute_result"
    }
   ],
   "source": [
    "# creating ndarrays:\n",
    "\n",
    "data1=[6,7,8,9.1]\n",
    "arr1=np.array(data1)\n",
    "arr1"
   ]
  },
  {
   "cell_type": "code",
   "execution_count": 31,
   "id": "fdd28b8e",
   "metadata": {},
   "outputs": [
    {
     "data": {
      "text/plain": [
       "array([[1, 2, 3, 4],\n",
       "       [4, 5, 6, 7]])"
      ]
     },
     "execution_count": 31,
     "metadata": {},
     "output_type": "execute_result"
    }
   ],
   "source": [
    "# nested sequence, like a list of equal length lists, will be converted into a multidimensional array.\n",
    "\n",
    "data2=[[1,2,3,4],[4,5,6,7]]\n",
    "array2=np.array(data2)\n",
    "array2"
   ]
  },
  {
   "cell_type": "code",
   "execution_count": 32,
   "id": "465cf67a",
   "metadata": {},
   "outputs": [
    {
     "data": {
      "text/plain": [
       "(2, 4)"
      ]
     },
     "execution_count": 32,
     "metadata": {},
     "output_type": "execute_result"
    }
   ],
   "source": [
    "# the numpy array has two-dimensions with shape intended from the data. \n",
    "array2.ndim #2 is answer\n",
    "array2.shape"
   ]
  },
  {
   "cell_type": "code",
   "execution_count": 33,
   "id": "8a1c2e36",
   "metadata": {},
   "outputs": [
    {
     "data": {
      "text/plain": [
       "array([[0., 0., 0.],\n",
       "       [0., 0., 0.]])"
      ]
     },
     "execution_count": 33,
     "metadata": {},
     "output_type": "execute_result"
    }
   ],
   "source": [
    "# There are other function to create arrays. for eg: zeroes and ones to create 0s and 1s respectively, with given length or shape. \n",
    "\n",
    "np.zeros(3)\n",
    "np.ones((1,2))\n",
    "np.empty((2,3))\n",
    "\n",
    "#similarly arange is an array value based version of built in python range functions #which is used in first example. \n",
    "# Since numpy is focused on numerical computing, the data type, if not specified it will return float64 in many cases."
   ]
  },
  {
   "cell_type": "markdown",
   "id": "7f9d034c",
   "metadata": {},
   "source": [
    "# array creation function:\n",
    "1. Array\n",
    "2. asarray\n",
    "3. ones,ones_like : zero,zero_like\n",
    "4. empty,empty_like\n",
    "5. eye,identity "
   ]
  },
  {
   "cell_type": "code",
   "execution_count": 34,
   "id": "108be260",
   "metadata": {},
   "outputs": [
    {
     "data": {
      "text/plain": [
       "dtype('int32')"
      ]
     },
     "execution_count": 34,
     "metadata": {},
     "output_type": "execute_result"
    }
   ],
   "source": [
    "# Data types for ndarrays: The data type is a special object containing the info the ndarray needs to interpret a chunk of memory as a particular type of data. \n",
    "\n",
    "arr1=np.array([1,2,3],dtype=np.float64)\n",
    "arr2=np.array([1,2,3],dtype=np.int32)\n",
    "arr1.dtype\n",
    "arr2.dtype\n",
    "\n",
    "# these is numpys flexibility for interacting data coming from other systems. \n",
    "#calling astype always create a new array (a copy of the data), even if the new dtype is the same as the old type. "
   ]
  },
  {
   "cell_type": "code",
   "execution_count": 35,
   "id": "92d2a897",
   "metadata": {},
   "outputs": [
    {
     "data": {
      "text/plain": [
       "array([[ 1,  4,  9, 16],\n",
       "       [25, 36, 49, 64]])"
      ]
     },
     "execution_count": 35,
     "metadata": {},
     "output_type": "execute_result"
    }
   ],
   "source": [
    "# Arithmetic with numpy arrays: \n",
    "\n",
    "arr=np.array([[1,2,3,4],[5,6,7,8]])\n",
    "arr*arr\n",
    "\n",
    "# arithmetic operation with scalars propagate the scalar argument to each element in the array.\n",
    "# comparison between arrays of the same size yield booleans arrays: for eg: arr2<arr \n",
    "\n",
    "# operation between differently sized arrays is called broadcasting. "
   ]
  },
  {
   "cell_type": "code",
   "execution_count": 36,
   "id": "7e0272ec",
   "metadata": {},
   "outputs": [
    {
     "data": {
      "text/plain": [
       "array([ 0,  1,  2,  3,  4, 64, 64, 64,  8,  9])"
      ]
     },
     "execution_count": 36,
     "metadata": {},
     "output_type": "execute_result"
    }
   ],
   "source": [
    "# Basic index and slicing.\n",
    "\n",
    "arr=np.arange(10)\n",
    "arr[5:8]=6\n",
    "arr_slice=arr[5:8]\n",
    "arr_slice[1]=1234\n",
    "arr\n",
    "\n",
    "# the bare slice [:] will assign to all values in an array:\n",
    "arr_slice[:]=64\n",
    "arr\n",
    "\n",
    "# to copy slice of an ndarray, explicitly copy the arrat=  arr[5:8].copy()"
   ]
  },
  {
   "cell_type": "code",
   "execution_count": 37,
   "id": "9f561679",
   "metadata": {},
   "outputs": [
    {
     "data": {
      "text/plain": [
       "array([[ 1,  2,  3],\n",
       "       [ 4,  5,  6],\n",
       "       [ 7,  8,  9],\n",
       "       [10, 11, 12]])"
      ]
     },
     "execution_count": 37,
     "metadata": {},
     "output_type": "execute_result"
    }
   ],
   "source": [
    "# Higher dimensional data: \n",
    "arr2d=np.array([[1,2,3],[4,5,6],[7,8,9]])\n",
    "arr2d[2]\n",
    "\n",
    "# the individual element can be accessed recursively ([0][1]) .but following can be better option. \n",
    "arr2d[0, 2]\n",
    "\n",
    "arr3d=np.array([[1,2,3],[4,5,6],[7,8,9],[10,11,12]])\n",
    "arr3d\n",
    "arr3d[1]\n",
    "\n",
    "#both scalar and arrays can be assigned in arr3d[1]\n",
    "old_values=arr3d[1].copy()\n",
    "arr3d[1]=12\n",
    "arr3d\n",
    "\n",
    "arr3d[1]=old_values\n",
    "arr3d"
   ]
  },
  {
   "cell_type": "code",
   "execution_count": 38,
   "id": "a001d043",
   "metadata": {},
   "outputs": [
    {
     "data": {
      "text/plain": [
       "array([1, 2, 3])"
      ]
     },
     "execution_count": 38,
     "metadata": {},
     "output_type": "execute_result"
    }
   ],
   "source": [
    "# indexing with slices.\n",
    "arr[1:4]"
   ]
  },
  {
   "cell_type": "code",
   "execution_count": 39,
   "id": "676f60eb",
   "metadata": {},
   "outputs": [
    {
     "data": {
      "text/plain": [
       "array([[2, 3],\n",
       "       [5, 6]])"
      ]
     },
     "execution_count": 39,
     "metadata": {},
     "output_type": "execute_result"
    }
   ],
   "source": [
    "# for 2D data slicing is done as\n",
    "arr2d[:2] # first two rows of the arr2d[:2]\n",
    "\n",
    "#we can pass multiple slices:\n",
    "arr2d[:2,1:] #by mixing integer index and slices, we get lowe dimensional slices."
   ]
  },
  {
   "cell_type": "code",
   "execution_count": 40,
   "id": "4b8c8230",
   "metadata": {},
   "outputs": [
    {
     "data": {
      "text/plain": [
       "array([3, 6])"
      ]
     },
     "execution_count": 40,
     "metadata": {},
     "output_type": "execute_result"
    }
   ],
   "source": [
    "# to select second row but only first two column like so:\n",
    "arr2d[1,:2]\n",
    "\n",
    "# select third column but only first two rows\n",
    "arr2d[:2,2]"
   ]
  },
  {
   "cell_type": "code",
   "execution_count": 41,
   "id": "095da370",
   "metadata": {},
   "outputs": [
    {
     "data": {
      "text/plain": [
       "array([[1, 0, 0],\n",
       "       [4, 0, 0],\n",
       "       [7, 8, 9]])"
      ]
     },
     "execution_count": 41,
     "metadata": {},
     "output_type": "execute_result"
    }
   ],
   "source": [
    "# Note : a colon means to take entire axis, so we can slice only higher dimnesional axes:\n",
    "\n",
    "arr2d[:,:1]\n",
    "arr2d[:2,1:]=0\n",
    "arr2d\n"
   ]
  },
  {
   "cell_type": "markdown",
   "id": "119bc1fd",
   "metadata": {},
   "source": [
    "# Note\n",
    "arr[rows,columns]\n",
    " arr[:2,1:] shape:(2,2) from 3 by 3 matrix.  means select first two rows and all columns from the second column ownward of the array.\n",
    " arr[2]  Shape (3,) third row and colums from that row only. \n",
    " arr[2,:] is also the same\n",
    " arr[2:,:] (1,3)\n",
    " arr[:,:2] refers (3,2) # ALL ROWS but until second column. (0,1=index)\n",
    " arr[1,:2] refers (2,)\n",
    " arr[1:2,:2] refers (1,2) "
   ]
  },
  {
   "cell_type": "code",
   "execution_count": 42,
   "id": "7dca8089",
   "metadata": {},
   "outputs": [
    {
     "data": {
      "text/plain": [
       "array([0.28962276])"
      ]
     },
     "execution_count": 42,
     "metadata": {},
     "output_type": "execute_result"
    }
   ],
   "source": [
    "#boolean index\n",
    "city=np.array([\"osaka\",\"kyoto\",\"amagassaki\"])\n",
    "data=np.random.randn(3,4) # specify 3 rows and 4 columns, so it returns 2D array with 3 rows and 4 columns.\n",
    "city\n",
    "city==\"Nara\" # arrays are also vectorized like airthmetic operations. \n",
    "# the boolean array can be passed while indexing the array:\n",
    "data[city==\"osaka\"] # this allows the filtering arrays by value conditions rather than by numeric index positions.\n",
    "\n",
    "# select from the rows and index the columns as well.\n",
    "data[city==\"osaka\",3] # only extract the rows where city name is osaka. ( selective filtering)"
   ]
  },
  {
   "cell_type": "code",
   "execution_count": 44,
   "id": "b149d051",
   "metadata": {},
   "outputs": [
    {
     "data": {
      "text/plain": [
       "array([-1.57988092,  2.06985043,  2.53317806,  1.10936603])"
      ]
     },
     "execution_count": 44,
     "metadata": {},
     "output_type": "execute_result"
    }
   ],
   "source": [
    "city!=\"osaka\" \n",
    "#  negate the ondition using ~\n",
    "data[~(city==\"osaka\")]\n",
    "\n",
    "# ~ operator can be useful to invet a general condition.\n",
    "cond=city==\"osaka\"\n",
    "data[~cond]"
   ]
  }
 ],
 "metadata": {
  "kernelspec": {
   "display_name": ".venv",
   "language": "python",
   "name": "python3"
  },
  "language_info": {
   "codemirror_mode": {
    "name": "ipython",
    "version": 3
   },
   "file_extension": ".py",
   "mimetype": "text/x-python",
   "name": "python",
   "nbconvert_exporter": "python",
   "pygments_lexer": "ipython3",
   "version": "3.10.0"
  }
 },
 "nbformat": 4,
 "nbformat_minor": 5
}
