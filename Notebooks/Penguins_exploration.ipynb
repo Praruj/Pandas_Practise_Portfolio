{
 "cells": [
  {
   "cell_type": "markdown",
   "id": "e2f37a22",
   "metadata": {},
   "source": [
    "# Pandas: built on two key python libraries, easy to use open source data analysis and manipulation tool. \n",
    "1. numpy\n",
    "2. Matplotkib\n",
    "\n",
    "It is designed to handle rectangualr data. "
   ]
  },
  {
   "cell_type": "markdown",
   "id": "a8218251",
   "metadata": {},
   "source": [
    "# .head(), .tail() and .info() method. \n",
    "Head and tail gives the information of first and last 5 rows respectively. df.head(n),.tail(n) where n is the number of rows. <br>\n",
    "info gives the data frame summary, including no.of rows,columns, column names, data types, non-null counts and memory usages which helps to understand the structure and check missing values and verify data types. "
   ]
  },
  {
   "cell_type": "code",
   "execution_count": 1,
   "id": "0559d65f",
   "metadata": {},
   "outputs": [
    {
     "name": "stdout",
     "output_type": "stream",
     "text": [
      "<class 'pandas.core.frame.DataFrame'>\n",
      "RangeIndex: 344 entries, 0 to 343\n",
      "Data columns (total 9 columns):\n",
      " #   Column             Non-Null Count  Dtype  \n",
      "---  ------             --------------  -----  \n",
      " 0   rowid              344 non-null    int64  \n",
      " 1   species            344 non-null    object \n",
      " 2   island             344 non-null    object \n",
      " 3   bill_length_mm     342 non-null    float64\n",
      " 4   bill_depth_mm      342 non-null    float64\n",
      " 5   flipper_length_mm  342 non-null    float64\n",
      " 6   body_mass_g        342 non-null    float64\n",
      " 7   sex                333 non-null    object \n",
      " 8   year               344 non-null    int64  \n",
      "dtypes: float64(4), int64(2), object(3)\n",
      "memory usage: 24.3+ KB\n"
     ]
    }
   ],
   "source": [
    "import pandas as pd\n",
    "penguins=pd.read_csv(\"..\\Datasets/penguins.csv\")\n",
    "penguins.head(n=6)\n",
    "penguins.tail()\n",
    "penguins.info()"
   ]
  },
  {
   "cell_type": "markdown",
   "id": "3eb25226",
   "metadata": {},
   "source": [
    "# difference betwen methos and attribute.\n",
    "1. method: function that belongs to an objectand performs an action. call with parenthesis ().\n",
    "2. attribute: characterstics of an object and performs an action which can accesed without parenthesis. "
   ]
  },
  {
   "cell_type": "code",
   "execution_count": null,
   "id": "d624dd6f",
   "metadata": {},
   "outputs": [
    {
     "data": {
      "text/plain": [
       "(344, 9)"
      ]
     },
     "execution_count": 10,
     "metadata": {},
     "output_type": "execute_result"
    }
   ],
   "source": [
    "#The .shape attribute\n",
    "penguins.shape\n"
   ]
  }
 ],
 "metadata": {
  "kernelspec": {
   "display_name": ".venv",
   "language": "python",
   "name": "python3"
  },
  "language_info": {
   "codemirror_mode": {
    "name": "ipython",
    "version": 3
   },
   "file_extension": ".py",
   "mimetype": "text/x-python",
   "name": "python",
   "nbconvert_exporter": "python",
   "pygments_lexer": "ipython3",
   "version": "3.10.0"
  }
 },
 "nbformat": 4,
 "nbformat_minor": 5
}
