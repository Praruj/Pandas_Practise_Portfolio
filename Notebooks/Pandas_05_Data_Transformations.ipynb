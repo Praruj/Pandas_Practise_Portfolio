{
 "cells": [
  {
   "cell_type": "markdown",
   "id": "b9ed61f9",
   "metadata": {},
   "source": [
    "# **Pandas Data Transformations**"
   ]
  },
  {
   "cell_type": "code",
   "execution_count": 47,
   "id": "4ec1829b",
   "metadata": {},
   "outputs": [],
   "source": [
    "# group by and aggregations:: Data transformations is bridge between raw data and actionable insights.\n",
    "import pandas as pd\n",
    "penguins_body_mass=pd.read_csv(\"..\\Datasets\\penguins.csv\")"
   ]
  },
  {
   "cell_type": "markdown",
   "id": "e4dc44ee",
   "metadata": {},
   "source": [
    "# Aggregations in pandas\n",
    "\n",
    "Aggregation operations summarize data within groups, reducing multiple values to a single value per group. They are a cornerstone of the split-apply-combine strategy in pandas' groupby:\n",
    "\n",
    "- Split: Break the DataFrame into groups (e.g., by `body_mass_g`).\n",
    "- Apply: Compute a summary (e.g., sum, mean, count) for each group.\n",
    "- Combine: Collect results into a new DataFrame or Series.\n",
    "\n",
    "Basic aggregation functions include:\n",
    "- Numeric: `mean()`, `sum()`, `min()`, `max()`, `std()`, `median()`.\n",
    "- General: `count()` (counts non-NaN values), `nunique()` (counts unique values), `size()` (counts total rows including NaNs).\n",
    "- Custom: Use `.agg()` with functions or lambdas, e.g., `.agg(lambda x: max(x) - min(x))` for range, or `.agg(list)` to collect values.\n",
    "\n",
    "Aggregations combine multiple values into a single result for each group, enabling efficient high-level insights into the data.\n"
   ]
  },
  {
   "cell_type": "code",
   "execution_count": 48,
   "id": "3ff16f5b",
   "metadata": {},
   "outputs": [
    {
     "data": {
      "text/plain": [
       "species\n",
       "Adelie       3700.662252\n",
       "Chinstrap    3733.088235\n",
       "Gentoo       5076.016260\n",
       "Name: body_mass_g, dtype: float64"
      ]
     },
     "execution_count": 48,
     "metadata": {},
     "output_type": "execute_result"
    }
   ],
   "source": [
    "# Group data by 'species' and calculate the mean body mass for each group.\n",
    "# This groups the penguins by species, then finds the average weight in grams.\n",
    "\n",
    "penguins_body_mass.groupby([\"species\"])[\"body_mass_g\"].mean()"
   ]
  },
  {
   "cell_type": "markdown",
   "id": "b96c33fa",
   "metadata": {},
   "source": [
    "The code :\n",
    "penguins_body_mass.groupby([\"body_mass_g\"])[\"species\"].mean()"
   ]
  },
  {
   "cell_type": "markdown",
   "id": "7817517a",
   "metadata": {},
   "source": [
    "did not work because the `.mean()` function in pandas requires numeric data and fails on strings.\n",
    "\n",
    "- `.mean()` → works only on numeric data, so it raises an error or returns nothing when applied to non-numeric columns like strings (e.g., `\"species\"`).\n",
    "- `.sum()` → with strings, it concatenates the values instead of summing numerically.\n",
    "- `.min()` / `.max()` → applied to strings, these return the lexicographically smallest or largest value respectively.\n",
    "\n",
    "Thus, `.mean()` is stricter and numeric-only, whereas `.sum()`, `.min()`, and `.max()` can operate on string data but with behavior that reflects string operations rather than arithmetic."
   ]
  },
  {
   "cell_type": "code",
   "execution_count": 49,
   "id": "1e39e027",
   "metadata": {},
   "outputs": [
    {
     "data": {
      "text/plain": [
       "array(['Adelie', 'Gentoo', 'Chinstrap'], dtype=object)"
      ]
     },
     "execution_count": 49,
     "metadata": {},
     "output_type": "execute_result"
    }
   ],
   "source": [
    "# Get unique species values (3 unique species in dataset)\n",
    "penguins_body_mass[\"species\"].unique()\n",
    "# three unique values. "
   ]
  },
  {
   "cell_type": "code",
   "execution_count": 50,
   "id": "e541f231",
   "metadata": {},
   "outputs": [
    {
     "data": {
      "text/html": [
       "<div>\n",
       "<style scoped>\n",
       "    .dataframe tbody tr th:only-of-type {\n",
       "        vertical-align: middle;\n",
       "    }\n",
       "\n",
       "    .dataframe tbody tr th {\n",
       "        vertical-align: top;\n",
       "    }\n",
       "\n",
       "    .dataframe thead th {\n",
       "        text-align: right;\n",
       "    }\n",
       "</style>\n",
       "<table border=\"1\" class=\"dataframe\">\n",
       "  <thead>\n",
       "    <tr style=\"text-align: right;\">\n",
       "      <th></th>\n",
       "      <th>sum</th>\n",
       "      <th>mean</th>\n",
       "    </tr>\n",
       "    <tr>\n",
       "      <th>species</th>\n",
       "      <th></th>\n",
       "      <th></th>\n",
       "    </tr>\n",
       "  </thead>\n",
       "  <tbody>\n",
       "    <tr>\n",
       "      <th>Adelie</th>\n",
       "      <td>28683.0</td>\n",
       "      <td>189.953642</td>\n",
       "    </tr>\n",
       "    <tr>\n",
       "      <th>Chinstrap</th>\n",
       "      <td>13316.0</td>\n",
       "      <td>195.823529</td>\n",
       "    </tr>\n",
       "    <tr>\n",
       "      <th>Gentoo</th>\n",
       "      <td>26714.0</td>\n",
       "      <td>217.186992</td>\n",
       "    </tr>\n",
       "  </tbody>\n",
       "</table>\n",
       "</div>"
      ],
      "text/plain": [
       "               sum        mean\n",
       "species                       \n",
       "Adelie     28683.0  189.953642\n",
       "Chinstrap  13316.0  195.823529\n",
       "Gentoo     26714.0  217.186992"
      ]
     },
     "execution_count": 50,
     "metadata": {},
     "output_type": "execute_result"
    }
   ],
   "source": [
    "# Using agg() to compute multiple aggregation metrics for each species\n",
    "penguins_body_mass.groupby(\"species\")[\"flipper_length_mm\"].agg([\"sum\",\"mean\"])"
   ]
  },
  {
   "cell_type": "code",
   "execution_count": 51,
   "id": "65547f81",
   "metadata": {},
   "outputs": [
    {
     "data": {
      "text/html": [
       "<div>\n",
       "<style scoped>\n",
       "    .dataframe tbody tr th:only-of-type {\n",
       "        vertical-align: middle;\n",
       "    }\n",
       "\n",
       "    .dataframe tbody tr th {\n",
       "        vertical-align: top;\n",
       "    }\n",
       "\n",
       "    .dataframe thead tr th {\n",
       "        text-align: left;\n",
       "    }\n",
       "\n",
       "    .dataframe thead tr:last-of-type th {\n",
       "        text-align: right;\n",
       "    }\n",
       "</style>\n",
       "<table border=\"1\" class=\"dataframe\">\n",
       "  <thead>\n",
       "    <tr>\n",
       "      <th></th>\n",
       "      <th colspan=\"2\" halign=\"left\">flipper_length_mm</th>\n",
       "      <th colspan=\"3\" halign=\"left\">body_mass_g</th>\n",
       "    </tr>\n",
       "    <tr>\n",
       "      <th></th>\n",
       "      <th>sum</th>\n",
       "      <th>mean</th>\n",
       "      <th>mean</th>\n",
       "      <th>max</th>\n",
       "      <th>min</th>\n",
       "    </tr>\n",
       "    <tr>\n",
       "      <th>species</th>\n",
       "      <th></th>\n",
       "      <th></th>\n",
       "      <th></th>\n",
       "      <th></th>\n",
       "      <th></th>\n",
       "    </tr>\n",
       "  </thead>\n",
       "  <tbody>\n",
       "    <tr>\n",
       "      <th>Adelie</th>\n",
       "      <td>28683.0</td>\n",
       "      <td>189.953642</td>\n",
       "      <td>3700.662252</td>\n",
       "      <td>4775.0</td>\n",
       "      <td>2850.0</td>\n",
       "    </tr>\n",
       "    <tr>\n",
       "      <th>Chinstrap</th>\n",
       "      <td>13316.0</td>\n",
       "      <td>195.823529</td>\n",
       "      <td>3733.088235</td>\n",
       "      <td>4800.0</td>\n",
       "      <td>2700.0</td>\n",
       "    </tr>\n",
       "    <tr>\n",
       "      <th>Gentoo</th>\n",
       "      <td>26714.0</td>\n",
       "      <td>217.186992</td>\n",
       "      <td>5076.016260</td>\n",
       "      <td>6300.0</td>\n",
       "      <td>3950.0</td>\n",
       "    </tr>\n",
       "  </tbody>\n",
       "</table>\n",
       "</div>"
      ],
      "text/plain": [
       "          flipper_length_mm              body_mass_g                \n",
       "                        sum        mean         mean     max     min\n",
       "species                                                             \n",
       "Adelie              28683.0  189.953642  3700.662252  4775.0  2850.0\n",
       "Chinstrap           13316.0  195.823529  3733.088235  4800.0  2700.0\n",
       "Gentoo              26714.0  217.186992  5076.016260  6300.0  3950.0"
      ]
     },
     "execution_count": 51,
     "metadata": {},
     "output_type": "execute_result"
    }
   ],
   "source": [
    "result = penguins_body_mass.groupby(\"species\").agg({\n",
    "    \"flipper_length_mm\": [\"sum\", \"mean\"],   # multiple aggregations for flipper length\n",
    "    \"body_mass_g\": [\"mean\", \"max\", \"min\"]   # multiple aggregations for body mass\n",
    "})\n",
    "result"
   ]
  },
  {
   "cell_type": "code",
   "execution_count": 52,
   "id": "aa0fe506",
   "metadata": {},
   "outputs": [
    {
     "data": {
      "text/plain": [
       "species\n",
       "Adelie       151\n",
       "Chinstrap     68\n",
       "Gentoo       123\n",
       "Name: body_mass_g, dtype: int64"
      ]
     },
     "execution_count": 52,
     "metadata": {},
     "output_type": "execute_result"
    }
   ],
   "source": [
    "# Count non-null body_mass_g values for each species\n",
    "penguins_body_mass.groupby(\"species\")[\"body_mass_g\"].count()"
   ]
  }
 ],
 "metadata": {
  "kernelspec": {
   "display_name": ".venv",
   "language": "python",
   "name": "python3"
  },
  "language_info": {
   "codemirror_mode": {
    "name": "ipython",
    "version": 3
   },
   "file_extension": ".py",
   "mimetype": "text/x-python",
   "name": "python",
   "nbconvert_exporter": "python",
   "pygments_lexer": "ipython3",
   "version": "3.10.0"
  }
 },
 "nbformat": 4,
 "nbformat_minor": 5
}
