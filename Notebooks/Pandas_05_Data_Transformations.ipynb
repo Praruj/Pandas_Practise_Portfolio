{
 "cells": [
  {
   "cell_type": "markdown",
   "id": "b9ed61f9",
   "metadata": {},
   "source": [
    "# **Pandas Data Transformations**"
   ]
  },
  {
   "cell_type": "code",
   "execution_count": 123,
   "id": "4ec1829b",
   "metadata": {},
   "outputs": [],
   "source": [
    "# group by and aggregations:: Data transformations is bridge between raw data and actionable insights.\n",
    "import pandas as pd\n",
    "penguins_body_mass=pd.read_csv(\"..\\Datasets\\penguins.csv\")"
   ]
  },
  {
   "cell_type": "markdown",
   "id": "e4dc44ee",
   "metadata": {},
   "source": [
    "# Aggregations in pandas\n",
    "\n",
    "Aggregation operations summarize data within groups, reducing multiple values to a single value per group. They are a cornerstone of the split-apply-combine strategy in pandas' groupby:\n",
    "\n",
    "- Split: Break the DataFrame into groups (e.g., by `body_mass_g`).\n",
    "- Apply: Compute a summary (e.g., sum, mean, count) for each group.\n",
    "- Combine: Collect results into a new DataFrame or Series.\n",
    "\n",
    "Basic aggregation functions include:\n",
    "- Numeric: `mean()`, `sum()`, `min()`, `max()`, `std()`, `median()`.\n",
    "- General: `count()` (counts non-NaN values), `nunique()` (counts unique values), `size()` (counts total rows including NaNs).\n",
    "- Custom: Use `.agg()` with functions or lambdas, e.g., `.agg(lambda x: max(x) - min(x))` for range, or `.agg(list)` to collect values.\n",
    "\n",
    "Aggregations combine multiple values into a single result for each group, enabling efficient high-level insights into the data.\n"
   ]
  },
  {
   "cell_type": "code",
   "execution_count": 124,
   "id": "3ff16f5b",
   "metadata": {},
   "outputs": [
    {
     "data": {
      "text/plain": [
       "species\n",
       "Adelie       3700.662252\n",
       "Chinstrap    3733.088235\n",
       "Gentoo       5076.016260\n",
       "Name: body_mass_g, dtype: float64"
      ]
     },
     "execution_count": 124,
     "metadata": {},
     "output_type": "execute_result"
    }
   ],
   "source": [
    "# Group data by 'species' and calculate the mean body mass for each group.\n",
    "# This groups the penguins by species, then finds the average weight in grams.\n",
    "\n",
    "penguins_body_mass.groupby([\"species\"])[\"body_mass_g\"].mean()"
   ]
  },
  {
   "cell_type": "markdown",
   "id": "b96c33fa",
   "metadata": {},
   "source": [
    "The code :\n",
    "penguins_body_mass.groupby([\"body_mass_g\"])[\"species\"].mean()"
   ]
  },
  {
   "cell_type": "markdown",
   "id": "7817517a",
   "metadata": {},
   "source": [
    "did not work because the `.mean()` function in pandas requires numeric data and fails on strings.\n",
    "\n",
    "- `.mean()` → works only on numeric data, so it raises an error or returns nothing when applied to non-numeric columns like strings (e.g., `\"species\"`).\n",
    "- `.sum()` → with strings, it concatenates the values instead of summing numerically.\n",
    "- `.min()` / `.max()` → applied to strings, these return the lexicographically smallest or largest value respectively.\n",
    "\n",
    "Thus, `.mean()` is stricter and numeric-only, whereas `.sum()`, `.min()`, and `.max()` can operate on string data but with behavior that reflects string operations rather than arithmetic."
   ]
  },
  {
   "cell_type": "code",
   "execution_count": 125,
   "id": "1e39e027",
   "metadata": {},
   "outputs": [
    {
     "data": {
      "text/plain": [
       "array(['Adelie', 'Gentoo', 'Chinstrap'], dtype=object)"
      ]
     },
     "execution_count": 125,
     "metadata": {},
     "output_type": "execute_result"
    }
   ],
   "source": [
    "# Get unique species values (3 unique species in dataset)\n",
    "penguins_body_mass[\"species\"].unique()\n",
    "# three unique values. "
   ]
  },
  {
   "cell_type": "code",
   "execution_count": 126,
   "id": "e541f231",
   "metadata": {},
   "outputs": [
    {
     "data": {
      "text/html": [
       "<div>\n",
       "<style scoped>\n",
       "    .dataframe tbody tr th:only-of-type {\n",
       "        vertical-align: middle;\n",
       "    }\n",
       "\n",
       "    .dataframe tbody tr th {\n",
       "        vertical-align: top;\n",
       "    }\n",
       "\n",
       "    .dataframe thead th {\n",
       "        text-align: right;\n",
       "    }\n",
       "</style>\n",
       "<table border=\"1\" class=\"dataframe\">\n",
       "  <thead>\n",
       "    <tr style=\"text-align: right;\">\n",
       "      <th></th>\n",
       "      <th>sum</th>\n",
       "      <th>mean</th>\n",
       "    </tr>\n",
       "    <tr>\n",
       "      <th>species</th>\n",
       "      <th></th>\n",
       "      <th></th>\n",
       "    </tr>\n",
       "  </thead>\n",
       "  <tbody>\n",
       "    <tr>\n",
       "      <th>Adelie</th>\n",
       "      <td>28683.0</td>\n",
       "      <td>189.953642</td>\n",
       "    </tr>\n",
       "    <tr>\n",
       "      <th>Chinstrap</th>\n",
       "      <td>13316.0</td>\n",
       "      <td>195.823529</td>\n",
       "    </tr>\n",
       "    <tr>\n",
       "      <th>Gentoo</th>\n",
       "      <td>26714.0</td>\n",
       "      <td>217.186992</td>\n",
       "    </tr>\n",
       "  </tbody>\n",
       "</table>\n",
       "</div>"
      ],
      "text/plain": [
       "               sum        mean\n",
       "species                       \n",
       "Adelie     28683.0  189.953642\n",
       "Chinstrap  13316.0  195.823529\n",
       "Gentoo     26714.0  217.186992"
      ]
     },
     "execution_count": 126,
     "metadata": {},
     "output_type": "execute_result"
    }
   ],
   "source": [
    "# Using agg() to compute multiple aggregation metrics for each species\n",
    "penguins_body_mass.groupby(\"species\")[\"flipper_length_mm\"].agg([\"sum\",\"mean\"])"
   ]
  },
  {
   "cell_type": "code",
   "execution_count": 127,
   "id": "65547f81",
   "metadata": {},
   "outputs": [
    {
     "data": {
      "text/html": [
       "<div>\n",
       "<style scoped>\n",
       "    .dataframe tbody tr th:only-of-type {\n",
       "        vertical-align: middle;\n",
       "    }\n",
       "\n",
       "    .dataframe tbody tr th {\n",
       "        vertical-align: top;\n",
       "    }\n",
       "\n",
       "    .dataframe thead tr th {\n",
       "        text-align: left;\n",
       "    }\n",
       "\n",
       "    .dataframe thead tr:last-of-type th {\n",
       "        text-align: right;\n",
       "    }\n",
       "</style>\n",
       "<table border=\"1\" class=\"dataframe\">\n",
       "  <thead>\n",
       "    <tr>\n",
       "      <th></th>\n",
       "      <th colspan=\"2\" halign=\"left\">flipper_length_mm</th>\n",
       "      <th colspan=\"3\" halign=\"left\">body_mass_g</th>\n",
       "    </tr>\n",
       "    <tr>\n",
       "      <th></th>\n",
       "      <th>sum</th>\n",
       "      <th>mean</th>\n",
       "      <th>mean</th>\n",
       "      <th>max</th>\n",
       "      <th>min</th>\n",
       "    </tr>\n",
       "    <tr>\n",
       "      <th>species</th>\n",
       "      <th></th>\n",
       "      <th></th>\n",
       "      <th></th>\n",
       "      <th></th>\n",
       "      <th></th>\n",
       "    </tr>\n",
       "  </thead>\n",
       "  <tbody>\n",
       "    <tr>\n",
       "      <th>Adelie</th>\n",
       "      <td>28683.0</td>\n",
       "      <td>189.953642</td>\n",
       "      <td>3700.662252</td>\n",
       "      <td>4775.0</td>\n",
       "      <td>2850.0</td>\n",
       "    </tr>\n",
       "    <tr>\n",
       "      <th>Chinstrap</th>\n",
       "      <td>13316.0</td>\n",
       "      <td>195.823529</td>\n",
       "      <td>3733.088235</td>\n",
       "      <td>4800.0</td>\n",
       "      <td>2700.0</td>\n",
       "    </tr>\n",
       "    <tr>\n",
       "      <th>Gentoo</th>\n",
       "      <td>26714.0</td>\n",
       "      <td>217.186992</td>\n",
       "      <td>5076.016260</td>\n",
       "      <td>6300.0</td>\n",
       "      <td>3950.0</td>\n",
       "    </tr>\n",
       "  </tbody>\n",
       "</table>\n",
       "</div>"
      ],
      "text/plain": [
       "          flipper_length_mm              body_mass_g                \n",
       "                        sum        mean         mean     max     min\n",
       "species                                                             \n",
       "Adelie              28683.0  189.953642  3700.662252  4775.0  2850.0\n",
       "Chinstrap           13316.0  195.823529  3733.088235  4800.0  2700.0\n",
       "Gentoo              26714.0  217.186992  5076.016260  6300.0  3950.0"
      ]
     },
     "execution_count": 127,
     "metadata": {},
     "output_type": "execute_result"
    }
   ],
   "source": [
    "result = penguins_body_mass.groupby(\"species\").agg({\n",
    "    \"flipper_length_mm\": [\"sum\", \"mean\"],   # multiple aggregations for flipper length\n",
    "    \"body_mass_g\": [\"mean\", \"max\", \"min\"]   # multiple aggregations for body mass\n",
    "})\n",
    "result"
   ]
  },
  {
   "cell_type": "code",
   "execution_count": 128,
   "id": "aa0fe506",
   "metadata": {},
   "outputs": [
    {
     "data": {
      "text/plain": [
       "species\n",
       "Adelie       151\n",
       "Chinstrap     68\n",
       "Gentoo       123\n",
       "Name: body_mass_g, dtype: int64"
      ]
     },
     "execution_count": 128,
     "metadata": {},
     "output_type": "execute_result"
    }
   ],
   "source": [
    "# Count non-null body_mass_g values for each species\n",
    "penguins_body_mass.groupby(\"species\")[\"body_mass_g\"].count()"
   ]
  },
  {
   "cell_type": "code",
   "execution_count": 129,
   "id": "c9d565dd",
   "metadata": {},
   "outputs": [
    {
     "data": {
      "text/html": [
       "<div>\n",
       "<style scoped>\n",
       "    .dataframe tbody tr th:only-of-type {\n",
       "        vertical-align: middle;\n",
       "    }\n",
       "\n",
       "    .dataframe tbody tr th {\n",
       "        vertical-align: top;\n",
       "    }\n",
       "\n",
       "    .dataframe thead th {\n",
       "        text-align: right;\n",
       "    }\n",
       "</style>\n",
       "<table border=\"1\" class=\"dataframe\">\n",
       "  <thead>\n",
       "    <tr style=\"text-align: right;\">\n",
       "      <th></th>\n",
       "      <th>max</th>\n",
       "      <th>min</th>\n",
       "    </tr>\n",
       "    <tr>\n",
       "      <th>island</th>\n",
       "      <th></th>\n",
       "      <th></th>\n",
       "    </tr>\n",
       "  </thead>\n",
       "  <tbody>\n",
       "    <tr>\n",
       "      <th>Biscoe</th>\n",
       "      <td>2009</td>\n",
       "      <td>2007</td>\n",
       "    </tr>\n",
       "    <tr>\n",
       "      <th>Dream</th>\n",
       "      <td>2009</td>\n",
       "      <td>2007</td>\n",
       "    </tr>\n",
       "    <tr>\n",
       "      <th>Torgersen</th>\n",
       "      <td>2009</td>\n",
       "      <td>2007</td>\n",
       "    </tr>\n",
       "  </tbody>\n",
       "</table>\n",
       "</div>"
      ],
      "text/plain": [
       "            max   min\n",
       "island               \n",
       "Biscoe     2009  2007\n",
       "Dream      2009  2007\n",
       "Torgersen  2009  2007"
      ]
     },
     "execution_count": 129,
     "metadata": {},
     "output_type": "execute_result"
    }
   ],
   "source": [
    "# Advanced aggregations: applying multiple aggregation functions to summarize data.\n",
    "\n",
    "aggregations= penguins_body_mass.groupby(\"island\")[\"year\"].agg([\"max\",\"min\"])\n",
    "aggregations"
   ]
  },
  {
   "cell_type": "code",
   "execution_count": 130,
   "id": "0f497524",
   "metadata": {},
   "outputs": [
    {
     "data": {
      "text/html": [
       "<div>\n",
       "<style scoped>\n",
       "    .dataframe tbody tr th:only-of-type {\n",
       "        vertical-align: middle;\n",
       "    }\n",
       "\n",
       "    .dataframe tbody tr th {\n",
       "        vertical-align: top;\n",
       "    }\n",
       "\n",
       "    .dataframe thead th {\n",
       "        text-align: right;\n",
       "    }\n",
       "</style>\n",
       "<table border=\"1\" class=\"dataframe\">\n",
       "  <thead>\n",
       "    <tr style=\"text-align: right;\">\n",
       "      <th></th>\n",
       "      <th>maximum year</th>\n",
       "      <th>average_year</th>\n",
       "    </tr>\n",
       "    <tr>\n",
       "      <th>species</th>\n",
       "      <th></th>\n",
       "      <th></th>\n",
       "    </tr>\n",
       "  </thead>\n",
       "  <tbody>\n",
       "    <tr>\n",
       "      <th>Adelie</th>\n",
       "      <td>2009</td>\n",
       "      <td>2008.013158</td>\n",
       "    </tr>\n",
       "    <tr>\n",
       "      <th>Chinstrap</th>\n",
       "      <td>2009</td>\n",
       "      <td>2007.970588</td>\n",
       "    </tr>\n",
       "    <tr>\n",
       "      <th>Gentoo</th>\n",
       "      <td>2009</td>\n",
       "      <td>2008.080645</td>\n",
       "    </tr>\n",
       "  </tbody>\n",
       "</table>\n",
       "</div>"
      ],
      "text/plain": [
       "           maximum year  average_year\n",
       "species                              \n",
       "Adelie             2009   2008.013158\n",
       "Chinstrap          2009   2007.970588\n",
       "Gentoo             2009   2008.080645"
      ]
     },
     "execution_count": 130,
     "metadata": {},
     "output_type": "execute_result"
    }
   ],
   "source": [
    "# To make results clearer, we can rename aggregation columns using a dictionary.\n",
    "\n",
    "renamed_columns={\n",
    "    \"maximum year\":\"max\",\n",
    "    \"average_year\":\"mean\"\n",
    "}\n",
    "aggregations= penguins_body_mass.groupby(\"species\")[\"year\"].agg(**renamed_columns)\n",
    "aggregations"
   ]
  },
  {
   "cell_type": "code",
   "execution_count": 131,
   "id": "4d778a2d",
   "metadata": {},
   "outputs": [
    {
     "data": {
      "text/html": [
       "<div>\n",
       "<style scoped>\n",
       "    .dataframe tbody tr th:only-of-type {\n",
       "        vertical-align: middle;\n",
       "    }\n",
       "\n",
       "    .dataframe tbody tr th {\n",
       "        vertical-align: top;\n",
       "    }\n",
       "\n",
       "    .dataframe thead th {\n",
       "        text-align: right;\n",
       "    }\n",
       "</style>\n",
       "<table border=\"1\" class=\"dataframe\">\n",
       "  <thead>\n",
       "    <tr style=\"text-align: right;\">\n",
       "      <th></th>\n",
       "      <th>max_year</th>\n",
       "      <th>min_year</th>\n",
       "    </tr>\n",
       "    <tr>\n",
       "      <th>island</th>\n",
       "      <th></th>\n",
       "      <th></th>\n",
       "    </tr>\n",
       "  </thead>\n",
       "  <tbody>\n",
       "    <tr>\n",
       "      <th>Biscoe</th>\n",
       "      <td>2009</td>\n",
       "      <td>2007</td>\n",
       "    </tr>\n",
       "    <tr>\n",
       "      <th>Dream</th>\n",
       "      <td>2009</td>\n",
       "      <td>2007</td>\n",
       "    </tr>\n",
       "    <tr>\n",
       "      <th>Torgersen</th>\n",
       "      <td>2009</td>\n",
       "      <td>2007</td>\n",
       "    </tr>\n",
       "  </tbody>\n",
       "</table>\n",
       "</div>"
      ],
      "text/plain": [
       "           max_year  min_year\n",
       "island                       \n",
       "Biscoe         2009      2007\n",
       "Dream          2009      2007\n",
       "Torgersen      2009      2007"
      ]
     },
     "execution_count": 131,
     "metadata": {},
     "output_type": "execute_result"
    }
   ],
   "source": [
    "# Applying different aggregation functions to multiple columns.\n",
    "aggregations= penguins_body_mass.groupby(\"island\")[\"year\"].agg(max_year=\"max\",min_year=\"min\")\n",
    "aggregations"
   ]
  },
  {
   "cell_type": "code",
   "execution_count": 132,
   "id": "3611ed1c",
   "metadata": {},
   "outputs": [
    {
     "data": {
      "text/html": [
       "<div>\n",
       "<style scoped>\n",
       "    .dataframe tbody tr th:only-of-type {\n",
       "        vertical-align: middle;\n",
       "    }\n",
       "\n",
       "    .dataframe tbody tr th {\n",
       "        vertical-align: top;\n",
       "    }\n",
       "\n",
       "    .dataframe thead th {\n",
       "        text-align: right;\n",
       "    }\n",
       "</style>\n",
       "<table border=\"1\" class=\"dataframe\">\n",
       "  <thead>\n",
       "    <tr style=\"text-align: right;\">\n",
       "      <th></th>\n",
       "      <th>flipper_length_mm</th>\n",
       "      <th>bill_length_mm</th>\n",
       "    </tr>\n",
       "    <tr>\n",
       "      <th>island</th>\n",
       "      <th></th>\n",
       "      <th></th>\n",
       "    </tr>\n",
       "  </thead>\n",
       "  <tbody>\n",
       "    <tr>\n",
       "      <th>Biscoe</th>\n",
       "      <td>172.0</td>\n",
       "      <td>34.5</td>\n",
       "    </tr>\n",
       "    <tr>\n",
       "      <th>Dream</th>\n",
       "      <td>178.0</td>\n",
       "      <td>32.1</td>\n",
       "    </tr>\n",
       "    <tr>\n",
       "      <th>Torgersen</th>\n",
       "      <td>176.0</td>\n",
       "      <td>33.5</td>\n",
       "    </tr>\n",
       "  </tbody>\n",
       "</table>\n",
       "</div>"
      ],
      "text/plain": [
       "           flipper_length_mm  bill_length_mm\n",
       "island                                      \n",
       "Biscoe                 172.0            34.5\n",
       "Dream                  178.0            32.1\n",
       "Torgersen              176.0            33.5"
      ]
     },
     "execution_count": 132,
     "metadata": {},
     "output_type": "execute_result"
    }
   ],
   "source": [
    "# Applying different aggregation functions to multiple columns.\n",
    "penguins_body_mass.groupby(\"island\").agg({\"flipper_length_mm\":\"min\", \"bill_length_mm\":\"min\"})"
   ]
  },
  {
   "cell_type": "code",
   "execution_count": 133,
   "id": "32033cfb",
   "metadata": {},
   "outputs": [
    {
     "data": {
      "text/html": [
       "<div>\n",
       "<style scoped>\n",
       "    .dataframe tbody tr th:only-of-type {\n",
       "        vertical-align: middle;\n",
       "    }\n",
       "\n",
       "    .dataframe tbody tr th {\n",
       "        vertical-align: top;\n",
       "    }\n",
       "\n",
       "    .dataframe thead th {\n",
       "        text-align: right;\n",
       "    }\n",
       "</style>\n",
       "<table border=\"1\" class=\"dataframe\">\n",
       "  <thead>\n",
       "    <tr style=\"text-align: right;\">\n",
       "      <th></th>\n",
       "      <th>average_body_mass</th>\n",
       "      <th>unique_species_count</th>\n",
       "      <th>std_body_mass</th>\n",
       "    </tr>\n",
       "    <tr>\n",
       "      <th>island</th>\n",
       "      <th></th>\n",
       "      <th></th>\n",
       "      <th></th>\n",
       "    </tr>\n",
       "  </thead>\n",
       "  <tbody>\n",
       "    <tr>\n",
       "      <th>Biscoe</th>\n",
       "      <td>4716.017964</td>\n",
       "      <td>2</td>\n",
       "      <td>782.855743</td>\n",
       "    </tr>\n",
       "    <tr>\n",
       "      <th>Dream</th>\n",
       "      <td>3712.903226</td>\n",
       "      <td>2</td>\n",
       "      <td>416.644112</td>\n",
       "    </tr>\n",
       "    <tr>\n",
       "      <th>Torgersen</th>\n",
       "      <td>3706.372549</td>\n",
       "      <td>1</td>\n",
       "      <td>445.107940</td>\n",
       "    </tr>\n",
       "  </tbody>\n",
       "</table>\n",
       "</div>"
      ],
      "text/plain": [
       "           average_body_mass  unique_species_count  std_body_mass\n",
       "island                                                           \n",
       "Biscoe           4716.017964                     2     782.855743\n",
       "Dream            3712.903226                     2     416.644112\n",
       "Torgersen        3706.372549                     1     445.107940"
      ]
     },
     "execution_count": 133,
     "metadata": {},
     "output_type": "execute_result"
    }
   ],
   "source": [
    "# Combine multiple aggregations into one grouped summary.\n",
    "penguins_body_mass.groupby(\"island\").agg(\n",
    "    average_body_mass=(\"body_mass_g\", \"mean\"),\n",
    "    unique_species_count=(\"species\", \"nunique\"),\n",
    "    std_body_mass=(\"body_mass_g\", \"std\") #standard deviation \n",
    ")"
   ]
  },
  {
   "cell_type": "markdown",
   "id": "b0a6a99d",
   "metadata": {},
   "source": [
    "- **Aggregations** such as `sum()`, `mean()`, `min()`, `max()`, `count()`, and `nunique()` summarize data within groups.\n",
    "- **Multiple aggregations** can be applied simultaneously using `.agg()` with lists, dictionaries, or named aggregation syntax.\n",
    "- **Named aggregations** allow assigning descriptive names to output columns for clarity.\n",
    "- Proper data types (numeric for math functions) are crucial to avoid errors during aggregation.\n",
    "- For categorical data, functions like `nunique` or `count` provide meaningful insights rather than numeric aggregates like `sum`.\n",
    "\n",
    "## Best Practices\n",
    "- Use **named aggregations** for clean, readable output:\n",
    "- When aggregating strings, avoid numeric functions; use counts or unique counts instead.\n",
    "- Rename columns either during aggregation (named aggregation) or afterwards using `.rename()`.\n",
    "- Examine and convert data types before aggregation to prevent errors like `TypeError: agg function failed`.\n",
    "\n",
    "## Summary Table of Useful Aggregations\n",
    "\n",
    "| Function      | Description                             | Use Case                |\n",
    "|---------------|-------------------------------------|-------------------------|\n",
    "| `sum()`       | Sum of values                       | Numeric totals          |\n",
    "| `mean()`      | Arithmetic average                  | Central tendency        |\n",
    "| `min()`/`max()`| Minimum/Maximum values              | Range insights          |\n",
    "| `count()`     | Non-null count                     | Number of entries       |\n",
    "| `nunique()`   | Count of unique values             | Category diversity      |\n",
    "| `std()`       | Standard deviation                 | Data variability        |\n",
    "\n",
    "Mastering `groupby` and `agg` empowers efficient exploratory data analysis and reporting by summarizing complex datasets into comprehensible insights. Always choose aggregation functions considering data types and the analysis context for meaningful results."
   ]
  },
  {
   "cell_type": "code",
   "execution_count": 134,
   "id": "e53f8efe",
   "metadata": {},
   "outputs": [],
   "source": [
    "# using custom Aggregations functions: custom functions helps us to do advanced action tailored to our specific names.\n",
    "import pandas as pd\n",
    "penguins_data=pd.read_csv(\"../Datasets/penguins.csv\")"
   ]
  },
  {
   "cell_type": "markdown",
   "id": "623086e4",
   "metadata": {},
   "source": [
    "## why custom Aggregations functions :?\n",
    "- When built-in functions doesnot meet our requirements\n",
    "- To implement specific business rules for analysis. \n",
    "-  Advanced metrices such as ranges, percentages are required."
   ]
  },
  {
   "cell_type": "markdown",
   "id": "c6e0fe55",
   "metadata": {},
   "source": [
    "### Key Methods\n",
    "\n",
    "- **Basic Syntax:**  \n",
    "  ```\n",
    "  df.groupby('column')['column_to_aggregate'].agg(your_function)\n",
    "  ```\n",
    "\n",
    "- **Lambda:**  \n",
    "  ```\n",
    "  agg(lambda x: max(x) - min(x))\n",
    "  ```\n",
    "\n",
    "- **Named Function:**  \n",
    "  ```\n",
    "  def my_func(x):\n",
    "      return ...\n",
    "  agg(my_func)\n",
    "  ```\n",
    "\n",
    "- **Multiple Functions:**  \n",
    "  ```\n",
    "  agg([my_func, 'mean'])\n",
    "  # or\n",
    "  agg({'column': [(name, my_func)]})  # for named outputs\n",
    "  ```\n",
    "```\n"
   ]
  },
  {
   "cell_type": "code",
   "execution_count": 135,
   "id": "01d90de2",
   "metadata": {},
   "outputs": [
    {
     "data": {
      "text/html": [
       "<div>\n",
       "<style scoped>\n",
       "    .dataframe tbody tr th:only-of-type {\n",
       "        vertical-align: middle;\n",
       "    }\n",
       "\n",
       "    .dataframe tbody tr th {\n",
       "        vertical-align: top;\n",
       "    }\n",
       "\n",
       "    .dataframe thead th {\n",
       "        text-align: right;\n",
       "    }\n",
       "</style>\n",
       "<table border=\"1\" class=\"dataframe\">\n",
       "  <thead>\n",
       "    <tr style=\"text-align: right;\">\n",
       "      <th></th>\n",
       "      <th>unique_species</th>\n",
       "      <th>mass_min</th>\n",
       "      <th>mass_max</th>\n",
       "      <th>mass_range</th>\n",
       "    </tr>\n",
       "    <tr>\n",
       "      <th>species</th>\n",
       "      <th></th>\n",
       "      <th></th>\n",
       "      <th></th>\n",
       "      <th></th>\n",
       "    </tr>\n",
       "  </thead>\n",
       "  <tbody>\n",
       "    <tr>\n",
       "      <th>Adelie</th>\n",
       "      <td>55</td>\n",
       "      <td>2850.0</td>\n",
       "      <td>4775.0</td>\n",
       "      <td>1925.0</td>\n",
       "    </tr>\n",
       "    <tr>\n",
       "      <th>Chinstrap</th>\n",
       "      <td>34</td>\n",
       "      <td>2700.0</td>\n",
       "      <td>4800.0</td>\n",
       "      <td>2100.0</td>\n",
       "    </tr>\n",
       "    <tr>\n",
       "      <th>Gentoo</th>\n",
       "      <td>47</td>\n",
       "      <td>3950.0</td>\n",
       "      <td>6300.0</td>\n",
       "      <td>2350.0</td>\n",
       "    </tr>\n",
       "  </tbody>\n",
       "</table>\n",
       "</div>"
      ],
      "text/plain": [
       "           unique_species  mass_min  mass_max  mass_range\n",
       "species                                                  \n",
       "Adelie                 55    2850.0    4775.0      1925.0\n",
       "Chinstrap              34    2700.0    4800.0      2100.0\n",
       "Gentoo                 47    3950.0    6300.0      2350.0"
      ]
     },
     "execution_count": 135,
     "metadata": {},
     "output_type": "execute_result"
    }
   ],
   "source": [
    "def calculate_range(series):\n",
    "    return series.max()-series.min()\n",
    "custom_aggregations = penguins_data.groupby(\"species\")[\"body_mass_g\"].agg(\n",
    "    unique_species= \"nunique\",\n",
    "    mass_min=\"min\",\n",
    "    mass_max=\"max\",\n",
    "    mass_range=calculate_range \n",
    ")\n",
    "custom_aggregations\n",
    "\n",
    "# The column used for aggregation is determined by what you select after the groupby (here body_mass_g).\n",
    "\n",
    "# The aggregation functions (like min, max) are applied to this selected column group-wise.\n",
    "\n",
    "# The output column names inside .agg() come from the keyword argument names you provide."
   ]
  },
  {
   "cell_type": "code",
   "execution_count": 136,
   "id": "019656be",
   "metadata": {},
   "outputs": [
    {
     "data": {
      "text/html": [
       "<div>\n",
       "<style scoped>\n",
       "    .dataframe tbody tr th:only-of-type {\n",
       "        vertical-align: middle;\n",
       "    }\n",
       "\n",
       "    .dataframe tbody tr th {\n",
       "        vertical-align: top;\n",
       "    }\n",
       "\n",
       "    .dataframe thead th {\n",
       "        text-align: right;\n",
       "    }\n",
       "</style>\n",
       "<table border=\"1\" class=\"dataframe\">\n",
       "  <thead>\n",
       "    <tr style=\"text-align: right;\">\n",
       "      <th></th>\n",
       "      <th>unique_species</th>\n",
       "      <th>mass_range</th>\n",
       "    </tr>\n",
       "    <tr>\n",
       "      <th>island</th>\n",
       "      <th></th>\n",
       "      <th></th>\n",
       "    </tr>\n",
       "  </thead>\n",
       "  <tbody>\n",
       "    <tr>\n",
       "      <th>Biscoe</th>\n",
       "      <td>2</td>\n",
       "      <td>3450.0</td>\n",
       "    </tr>\n",
       "    <tr>\n",
       "      <th>Dream</th>\n",
       "      <td>2</td>\n",
       "      <td>2100.0</td>\n",
       "    </tr>\n",
       "    <tr>\n",
       "      <th>Torgersen</th>\n",
       "      <td>1</td>\n",
       "      <td>1800.0</td>\n",
       "    </tr>\n",
       "  </tbody>\n",
       "</table>\n",
       "</div>"
      ],
      "text/plain": [
       "           unique_species  mass_range\n",
       "island                               \n",
       "Biscoe                  2      3450.0\n",
       "Dream                   2      2100.0\n",
       "Torgersen               1      1800.0"
      ]
     },
     "execution_count": 136,
     "metadata": {},
     "output_type": "execute_result"
    }
   ],
   "source": [
    "custom_agg = penguins_data.groupby('island').agg(\n",
    "    unique_species=('species', 'nunique'),\n",
    "    mass_range=('body_mass_g', lambda s: s.max() - s.min())\n",
    ")\n",
    "custom_agg\n",
    "\n",
    "# Groups penguins by island.\n",
    "# Counts unique species in each island group.\n",
    "# Calculates range (max - min) of body_mass_g per island."
   ]
  },
  {
   "cell_type": "code",
   "execution_count": 137,
   "id": "b2be37e5",
   "metadata": {},
   "outputs": [
    {
     "name": "stdout",
     "output_type": "stream",
     "text": [
      "species\n",
      "Adelie        35\n",
      "Chinstrap     15\n",
      "Gentoo       122\n",
      "Name: body_mass_g, dtype: int64\n"
     ]
    }
   ],
   "source": [
    "# Custom function: count values above 4000\n",
    "def count_heavy(x):\n",
    "    return (x > 4000).sum()\n",
    "\n",
    "result = penguins_body_mass.groupby('species')['body_mass_g'].agg(count_heavy)\n",
    "print(result)"
   ]
  },
  {
   "cell_type": "code",
   "execution_count": 138,
   "id": "2da9ae8c",
   "metadata": {},
   "outputs": [
    {
     "data": {
      "text/plain": [
       "152"
      ]
     },
     "execution_count": 138,
     "metadata": {},
     "output_type": "execute_result"
    }
   ],
   "source": [
    "# custom complex aggregarions\n",
    "penguins_adelie=penguins_body_mass.query(\"species=='Adelie'\")\n",
    "len(penguins_adelie[\"island\"])"
   ]
  },
  {
   "cell_type": "code",
   "execution_count": 139,
   "id": "bebd5fdb",
   "metadata": {},
   "outputs": [
    {
     "data": {
      "text/plain": [
       "44"
      ]
     },
     "execution_count": 139,
     "metadata": {},
     "output_type": "execute_result"
    }
   ],
   "source": [
    "sum(penguins_adelie[\"island\"]==\"Biscoe\")\n",
    "# .sum() on this mask counts the number of True values (matches), while len() just returns total length unrelated to matching count."
   ]
  },
  {
   "cell_type": "markdown",
   "id": "51e49a9d",
   "metadata": {},
   "source": [
    "To calculate the percentage of each species within a pandas DataFrame using custom complex aggregations, you can apply a groupby operation combined with a custom aggregation function. The general approach is:\n",
    "\n",
    "1. Group the DataFrame by the categorical column (`species`).\n",
    "2. Count the number of entries in each group.\n",
    "3. Divide each group's count by the total count of all entries (to get the proportion).\n",
    "4. Multiply by 100 to convert the proportion to a percentage.\n",
    "\n",
    "Here is an example code snippet implementing this:"
   ]
  },
  {
   "cell_type": "code",
   "execution_count": null,
   "id": "b51d9d17",
   "metadata": {},
   "outputs": [
    {
     "data": {
      "text/html": [
       "<div>\n",
       "<style scoped>\n",
       "    .dataframe tbody tr th:only-of-type {\n",
       "        vertical-align: middle;\n",
       "    }\n",
       "\n",
       "    .dataframe tbody tr th {\n",
       "        vertical-align: top;\n",
       "    }\n",
       "\n",
       "    .dataframe thead th {\n",
       "        text-align: right;\n",
       "    }\n",
       "</style>\n",
       "<table border=\"1\" class=\"dataframe\">\n",
       "  <thead>\n",
       "    <tr style=\"text-align: right;\">\n",
       "      <th></th>\n",
       "      <th>percentage</th>\n",
       "    </tr>\n",
       "    <tr>\n",
       "      <th>species</th>\n",
       "      <th></th>\n",
       "    </tr>\n",
       "  </thead>\n",
       "  <tbody>\n",
       "    <tr>\n",
       "      <th>Adelie</th>\n",
       "      <td>44.186047</td>\n",
       "    </tr>\n",
       "    <tr>\n",
       "      <th>Chinstrap</th>\n",
       "      <td>19.767442</td>\n",
       "    </tr>\n",
       "    <tr>\n",
       "      <th>Gentoo</th>\n",
       "      <td>36.046512</td>\n",
       "    </tr>\n",
       "  </tbody>\n",
       "</table>\n",
       "</div>"
      ],
      "text/plain": [
       "           percentage\n",
       "species              \n",
       "Adelie      44.186047\n",
       "Chinstrap   19.767442\n",
       "Gentoo      36.046512"
      ]
     },
     "execution_count": 146,
     "metadata": {},
     "output_type": "execute_result"
    }
   ],
   "source": [
    "def percentage_of_total(x):\n",
    "    return (len(x) / len(penguins_body_mass)) * 100\n",
    "result = penguins_body_mass.groupby(\"species\").agg(percentage=('species', percentage_of_total))\n",
    "result"
   ]
  },
  {
   "cell_type": "code",
   "execution_count": 148,
   "id": "38896096",
   "metadata": {},
   "outputs": [
    {
     "data": {
      "text/html": [
       "<div>\n",
       "<style scoped>\n",
       "    .dataframe tbody tr th:only-of-type {\n",
       "        vertical-align: middle;\n",
       "    }\n",
       "\n",
       "    .dataframe tbody tr th {\n",
       "        vertical-align: top;\n",
       "    }\n",
       "\n",
       "    .dataframe thead th {\n",
       "        text-align: right;\n",
       "    }\n",
       "</style>\n",
       "<table border=\"1\" class=\"dataframe\">\n",
       "  <thead>\n",
       "    <tr style=\"text-align: right;\">\n",
       "      <th></th>\n",
       "      <th>percentage</th>\n",
       "    </tr>\n",
       "    <tr>\n",
       "      <th>island</th>\n",
       "      <th></th>\n",
       "    </tr>\n",
       "  </thead>\n",
       "  <tbody>\n",
       "    <tr>\n",
       "      <th>Biscoe</th>\n",
       "      <td>48.837209</td>\n",
       "    </tr>\n",
       "    <tr>\n",
       "      <th>Dream</th>\n",
       "      <td>36.046512</td>\n",
       "    </tr>\n",
       "    <tr>\n",
       "      <th>Torgersen</th>\n",
       "      <td>15.116279</td>\n",
       "    </tr>\n",
       "  </tbody>\n",
       "</table>\n",
       "</div>"
      ],
      "text/plain": [
       "           percentage\n",
       "island               \n",
       "Biscoe      48.837209\n",
       "Dream       36.046512\n",
       "Torgersen   15.116279"
      ]
     },
     "execution_count": 148,
     "metadata": {},
     "output_type": "execute_result"
    }
   ],
   "source": [
    "result=penguins_body_mass.groupby(\"island\").agg(percentage=(\"island\",percentage_of_total))\n",
    "result"
   ]
  },
  {
   "cell_type": "code",
   "execution_count": 151,
   "id": "84651da7",
   "metadata": {},
   "outputs": [
    {
     "data": {
      "text/html": [
       "<div>\n",
       "<style scoped>\n",
       "    .dataframe tbody tr th:only-of-type {\n",
       "        vertical-align: middle;\n",
       "    }\n",
       "\n",
       "    .dataframe tbody tr th {\n",
       "        vertical-align: top;\n",
       "    }\n",
       "\n",
       "    .dataframe thead th {\n",
       "        text-align: right;\n",
       "    }\n",
       "</style>\n",
       "<table border=\"1\" class=\"dataframe\">\n",
       "  <thead>\n",
       "    <tr style=\"text-align: right;\">\n",
       "      <th></th>\n",
       "      <th>island</th>\n",
       "      <th>species</th>\n",
       "      <th>percentage</th>\n",
       "    </tr>\n",
       "  </thead>\n",
       "  <tbody>\n",
       "    <tr>\n",
       "      <th>0</th>\n",
       "      <td>Biscoe</td>\n",
       "      <td>Adelie</td>\n",
       "      <td>12.790698</td>\n",
       "    </tr>\n",
       "    <tr>\n",
       "      <th>1</th>\n",
       "      <td>Biscoe</td>\n",
       "      <td>Gentoo</td>\n",
       "      <td>36.046512</td>\n",
       "    </tr>\n",
       "    <tr>\n",
       "      <th>2</th>\n",
       "      <td>Dream</td>\n",
       "      <td>Adelie</td>\n",
       "      <td>16.279070</td>\n",
       "    </tr>\n",
       "    <tr>\n",
       "      <th>3</th>\n",
       "      <td>Dream</td>\n",
       "      <td>Chinstrap</td>\n",
       "      <td>19.767442</td>\n",
       "    </tr>\n",
       "    <tr>\n",
       "      <th>4</th>\n",
       "      <td>Torgersen</td>\n",
       "      <td>Adelie</td>\n",
       "      <td>15.116279</td>\n",
       "    </tr>\n",
       "  </tbody>\n",
       "</table>\n",
       "</div>"
      ],
      "text/plain": [
       "      island    species  percentage\n",
       "0     Biscoe     Adelie   12.790698\n",
       "1     Biscoe     Gentoo   36.046512\n",
       "2      Dream     Adelie   16.279070\n",
       "3      Dream  Chinstrap   19.767442\n",
       "4  Torgersen     Adelie   15.116279"
      ]
     },
     "execution_count": 151,
     "metadata": {},
     "output_type": "execute_result"
    }
   ],
   "source": [
    "def percentage_of_total(x):\n",
    "    return (len(x) / len(penguins_body_mass)) * 100\n",
    "\n",
    "# Group by both 'island' and 'species',\n",
    "# then apply the function to count rows per group and convert to percentage of total\n",
    "result = penguins_body_mass.groupby(['island', 'species']).agg(percentage=('species', percentage_of_total))\n",
    "result.reset_index()\n"
   ]
  }
 ],
 "metadata": {
  "kernelspec": {
   "display_name": ".venv",
   "language": "python",
   "name": "python3"
  },
  "language_info": {
   "codemirror_mode": {
    "name": "ipython",
    "version": 3
   },
   "file_extension": ".py",
   "mimetype": "text/x-python",
   "name": "python",
   "nbconvert_exporter": "python",
   "pygments_lexer": "ipython3",
   "version": "3.10.0"
  }
 },
 "nbformat": 4,
 "nbformat_minor": 5
}
