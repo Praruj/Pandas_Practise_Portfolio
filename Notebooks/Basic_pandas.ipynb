{
 "cells": [
  {
   "cell_type": "markdown",
   "id": "0765359d",
   "metadata": {},
   "source": [
    "# Pandas:\n",
    "Contains data structures and data manipulation tools designed to make data cleaning and analysis fast and easy.\n",
    "Pandas is designed for working in tabular or heterogeneous data, whereas numpy is suited for working with homogenous numerical array data.\n"
   ]
  },
  {
   "cell_type": "code",
   "execution_count": 5,
   "id": "b37b3893",
   "metadata": {},
   "outputs": [],
   "source": [
    "import pandas as pd\n",
    "import numpy as np\n",
    "\n",
    "#from now, wherever pd appears, it refers to pandas.  and whole module is being imported. \n",
    "from pandas import DataFrame, Series  #easier to import into local namespace. only series and data frames are being imported"
   ]
  },
  {
   "cell_type": "code",
   "execution_count": 6,
   "id": "c065c352",
   "metadata": {},
   "outputs": [
    {
     "name": "stdout",
     "output_type": "stream",
     "text": [
      "0    4\n",
      "1    7\n",
      "2   -5\n",
      "3    8\n",
      "dtype: int64\n",
      "[ 4  7 -5  8]\n",
      "RangeIndex(start=0, stop=4, step=1)\n"
     ]
    }
   ],
   "source": [
    "# Pandas data structure\n",
    "#1. series : one-dimensional array like object containing a sequence of values and an associated array of data labels called index. \n",
    "obj=pd.Series([4,7,-5,8])\n",
    "print(obj)\n",
    "#it gives index on left and values on the right. , from 0 to n -1 in default. \n",
    "# we can get array representation  and index object of the series via its values and index attributes respectively.\n",
    "\n",
    "print(obj.values)\n",
    "print(obj.index)"
   ]
  },
  {
   "cell_type": "code",
   "execution_count": 7,
   "id": "5201ed9e",
   "metadata": {},
   "outputs": [
    {
     "name": "stdout",
     "output_type": "stream",
     "text": [
      "a    1\n",
      "b    2\n",
      "c    3\n",
      "d    4\n",
      "dtype: int64\n",
      "Index(['a', 'b', 'c', 'd'], dtype='object')\n"
     ]
    },
    {
     "data": {
      "text/plain": [
       "a    1\n",
       "b    2\n",
       "c    3\n",
       "dtype: int64"
      ]
     },
     "execution_count": 7,
     "metadata": {},
     "output_type": "execute_result"
    }
   ],
   "source": [
    "# It is good to create the series with an index identifying each data point with a label.\n",
    "obj2=pd.Series([1,2,3,4],index=(\"a\",\"b\",\"c\",\"d\"))\n",
    "print(obj2)\n",
    "\n",
    "print(obj2.index)\n",
    "\n",
    "#compared with numpy arrays, we can label in the index when selecting single values or set of values.\n",
    "obj2[[\"a\",\"b\",\"c\"]] \n",
    "# here is [\"a\",\"b\",\"C\"] is intepreted as list of indices, even though it contains strings instead of integers."
   ]
  },
  {
   "cell_type": "code",
   "execution_count": 8,
   "id": "e15e30fe",
   "metadata": {},
   "outputs": [
    {
     "name": "stdout",
     "output_type": "stream",
     "text": [
      "alexa      3000.0\n",
      "siri       2000.0\n",
      "gemini    12000.0\n",
      "dtype: float64\n",
      "alexa     3000.0\n",
      "grok         NaN\n",
      "claude       NaN\n",
      "dtype: float64\n"
     ]
    }
   ],
   "source": [
    "# Series is a fixed-length, ordered dict as it is a mapping of index values to the data values. \n",
    "# we can create series form by passing dictionary. \n",
    "\n",
    "data={\"alexa\":3000.,\"siri\":2000,\"gemini\":12000}\n",
    "obj3=pd.Series(data)\n",
    "print(obj3)\n",
    "# dict keys are being index in resulting series. \n",
    "\n",
    "machines={\"grok\",\"alexa\",\"claude\"}\n",
    "obj4=pd.Series(data,index=machines)\n",
    "print(obj4)\n",
    "\n",
    "# one value is found in data placed in appropriate location, returned NaN (not a number) which is considered in pandas for missing values.  \n"
   ]
  },
  {
   "cell_type": "code",
   "execution_count": 9,
   "id": "3ec36575",
   "metadata": {},
   "outputs": [
    {
     "data": {
      "text/plain": [
       "alexa      True\n",
       "grok      False\n",
       "claude    False\n",
       "dtype: bool"
      ]
     },
     "execution_count": 9,
     "metadata": {},
     "output_type": "execute_result"
    }
   ],
   "source": [
    "# the isnull and not null function in pandas should be used to detect missing data.:\n",
    "pd.isnull(obj4) #marks true for missing null values and false for valid for non-missing data.\n",
    "pd.notnull(obj4) #marks true for non missing data and marks False for missing data"
   ]
  },
  {
   "cell_type": "code",
   "execution_count": 10,
   "id": "656328ac",
   "metadata": {},
   "outputs": [
    {
     "data": {
      "text/plain": [
       "alexa     False\n",
       "grok       True\n",
       "claude     True\n",
       "dtype: bool"
      ]
     },
     "execution_count": 10,
     "metadata": {},
     "output_type": "execute_result"
    }
   ],
   "source": [
    "#Series also have instance methods: functions that are defined inside class, They have access to instances attributes and can modify the state of that specific instance.\n",
    "obj4.isnull()"
   ]
  },
  {
   "cell_type": "code",
   "execution_count": 11,
   "id": "71d6c11c",
   "metadata": {},
   "outputs": [
    {
     "data": {
      "text/plain": [
       "alexa     6000.0\n",
       "claude       NaN\n",
       "gemini       NaN\n",
       "grok         NaN\n",
       "siri         NaN\n",
       "dtype: float64"
      ]
     },
     "execution_count": 11,
     "metadata": {},
     "output_type": "execute_result"
    }
   ],
   "source": [
    "# Series features automatically aligns by index label in airthmetic operations.\n",
    "obj3+obj4"
   ]
  },
  {
   "cell_type": "code",
   "execution_count": 12,
   "id": "59c7052c",
   "metadata": {},
   "outputs": [
    {
     "name": "stdout",
     "output_type": "stream",
     "text": [
      "Device\n",
      "alexa     3000.0\n",
      "grok         NaN\n",
      "claude       NaN\n",
      "Name: Users, dtype: float64\n"
     ]
    }
   ],
   "source": [
    "# Series object and index have objects(value) have name attribute, which integrates with other key areas of pandas functionality.\n",
    "obj4.name=\"Users\"\n",
    "obj4.index.name=\"Device\"\n",
    "print(obj4)\n",
    "\n",
    "# device is index name and Users is the series name or column name. "
   ]
  },
  {
   "cell_type": "code",
   "execution_count": 13,
   "id": "b6b3a4d1",
   "metadata": {},
   "outputs": [
    {
     "data": {
      "text/plain": [
       "gita       4\n",
       "Ram        7\n",
       "Yamada    -5\n",
       "galilei    8\n",
       "dtype: int64"
      ]
     },
     "execution_count": 13,
     "metadata": {},
     "output_type": "execute_result"
    }
   ],
   "source": [
    "# series index can be altered in place by assignments\n",
    "obj\n",
    "obj.index=[\"gita\",\"Ram\",\"Yamada\",\"galilei\"]\n",
    "obj"
   ]
  },
  {
   "cell_type": "markdown",
   "id": "5b07e674",
   "metadata": {},
   "source": [
    "## Data Frame in Pandas: \n",
    "Represents a rectangular table of data and contains an ordered collection of columnns, each of which can be different value type (numeric,string, boolean,etc). It has both row and column index; it can be taken as a dict of series all sharing same index.  The data is stored as one or more two-dimensional blocks rather than a list, dict or some other collection of one dimensional array. "
   ]
  },
  {
   "cell_type": "code",
   "execution_count": 14,
   "id": "eda72acd",
   "metadata": {},
   "outputs": [
    {
     "name": "stdout",
     "output_type": "stream",
     "text": [
      "    city  year  population\n",
      "0  osaka  2000     2700000\n",
      "1  osaka  2005     2750000\n",
      "2  osaka  2010     2800000\n",
      "3  kyoto  2000     1500000\n",
      "4  kyoto  2005     1550000\n",
      "5  kyoto  2010     1600000\n"
     ]
    },
    {
     "data": {
      "text/html": [
       "<div>\n",
       "<style scoped>\n",
       "    .dataframe tbody tr th:only-of-type {\n",
       "        vertical-align: middle;\n",
       "    }\n",
       "\n",
       "    .dataframe tbody tr th {\n",
       "        vertical-align: top;\n",
       "    }\n",
       "\n",
       "    .dataframe thead th {\n",
       "        text-align: right;\n",
       "    }\n",
       "</style>\n",
       "<table border=\"1\" class=\"dataframe\">\n",
       "  <thead>\n",
       "    <tr style=\"text-align: right;\">\n",
       "      <th></th>\n",
       "      <th>city</th>\n",
       "      <th>year</th>\n",
       "      <th>population</th>\n",
       "    </tr>\n",
       "  </thead>\n",
       "  <tbody>\n",
       "    <tr>\n",
       "      <th>0</th>\n",
       "      <td>osaka</td>\n",
       "      <td>2000</td>\n",
       "      <td>2700000</td>\n",
       "    </tr>\n",
       "    <tr>\n",
       "      <th>1</th>\n",
       "      <td>osaka</td>\n",
       "      <td>2005</td>\n",
       "      <td>2750000</td>\n",
       "    </tr>\n",
       "    <tr>\n",
       "      <th>2</th>\n",
       "      <td>osaka</td>\n",
       "      <td>2010</td>\n",
       "      <td>2800000</td>\n",
       "    </tr>\n",
       "    <tr>\n",
       "      <th>3</th>\n",
       "      <td>kyoto</td>\n",
       "      <td>2000</td>\n",
       "      <td>1500000</td>\n",
       "    </tr>\n",
       "    <tr>\n",
       "      <th>4</th>\n",
       "      <td>kyoto</td>\n",
       "      <td>2005</td>\n",
       "      <td>1550000</td>\n",
       "    </tr>\n",
       "  </tbody>\n",
       "</table>\n",
       "</div>"
      ],
      "text/plain": [
       "    city  year  population\n",
       "0  osaka  2000     2700000\n",
       "1  osaka  2005     2750000\n",
       "2  osaka  2010     2800000\n",
       "3  kyoto  2000     1500000\n",
       "4  kyoto  2005     1550000"
      ]
     },
     "execution_count": 14,
     "metadata": {},
     "output_type": "execute_result"
    }
   ],
   "source": [
    "data={\n",
    "    \"city\":[\"osaka\",\"osaka\",\"osaka\",\"kyoto\",\"kyoto\",\"kyoto\"],\n",
    "    \"year\":[2000,2005,2010,2000,2005,2010],\n",
    "    \"population\":[2700000, 2750000, 2800000, 1500000, 1550000, 1600000]\n",
    "}\n",
    "frame=pd.DataFrame(data)\n",
    "print(frame) #Dataframe will have its index assigned automatically as with Series, and the columns are placed in sorted order.\n",
    "#for large dataframes, the head method selects only first five rows. \n",
    "frame.head()"
   ]
  },
  {
   "cell_type": "code",
   "execution_count": 15,
   "id": "b0b2442a",
   "metadata": {},
   "outputs": [
    {
     "data": {
      "text/html": [
       "<div>\n",
       "<style scoped>\n",
       "    .dataframe tbody tr th:only-of-type {\n",
       "        vertical-align: middle;\n",
       "    }\n",
       "\n",
       "    .dataframe tbody tr th {\n",
       "        vertical-align: top;\n",
       "    }\n",
       "\n",
       "    .dataframe thead th {\n",
       "        text-align: right;\n",
       "    }\n",
       "</style>\n",
       "<table border=\"1\" class=\"dataframe\">\n",
       "  <thead>\n",
       "    <tr style=\"text-align: right;\">\n",
       "      <th></th>\n",
       "      <th>population</th>\n",
       "      <th>city</th>\n",
       "      <th>year</th>\n",
       "    </tr>\n",
       "  </thead>\n",
       "  <tbody>\n",
       "    <tr>\n",
       "      <th>0</th>\n",
       "      <td>2700000</td>\n",
       "      <td>osaka</td>\n",
       "      <td>2000</td>\n",
       "    </tr>\n",
       "    <tr>\n",
       "      <th>1</th>\n",
       "      <td>2750000</td>\n",
       "      <td>osaka</td>\n",
       "      <td>2005</td>\n",
       "    </tr>\n",
       "    <tr>\n",
       "      <th>2</th>\n",
       "      <td>2800000</td>\n",
       "      <td>osaka</td>\n",
       "      <td>2010</td>\n",
       "    </tr>\n",
       "    <tr>\n",
       "      <th>3</th>\n",
       "      <td>1500000</td>\n",
       "      <td>kyoto</td>\n",
       "      <td>2000</td>\n",
       "    </tr>\n",
       "    <tr>\n",
       "      <th>4</th>\n",
       "      <td>1550000</td>\n",
       "      <td>kyoto</td>\n",
       "      <td>2005</td>\n",
       "    </tr>\n",
       "    <tr>\n",
       "      <th>5</th>\n",
       "      <td>1600000</td>\n",
       "      <td>kyoto</td>\n",
       "      <td>2010</td>\n",
       "    </tr>\n",
       "  </tbody>\n",
       "</table>\n",
       "</div>"
      ],
      "text/plain": [
       "   population   city  year\n",
       "0     2700000  osaka  2000\n",
       "1     2750000  osaka  2005\n",
       "2     2800000  osaka  2010\n",
       "3     1500000  kyoto  2000\n",
       "4     1550000  kyoto  2005\n",
       "5     1600000  kyoto  2010"
      ]
     },
     "execution_count": 15,
     "metadata": {},
     "output_type": "execute_result"
    }
   ],
   "source": [
    "# to specify the sequence of the columns, the dataframes columns can be arranged in that order.\n",
    "pd.DataFrame(data,columns=[\"population\",\"city\",\"year\"])"
   ]
  },
  {
   "cell_type": "code",
   "execution_count": 16,
   "id": "ae271292",
   "metadata": {},
   "outputs": [
    {
     "data": {
      "text/plain": [
       "Index(['year', 'city', 'population', 'debt'], dtype='object')"
      ]
     },
     "execution_count": 16,
     "metadata": {},
     "output_type": "execute_result"
    }
   ],
   "source": [
    "# if column which isnt in data is passed then NaN will appear.\n",
    "frame2=pd.DataFrame(data,columns=[\"year\",\"city\",\"population\",\"debt\"],index=[1,2,3,4,5,6])\n",
    "frame2\n",
    "\n",
    "#in this way we can set index and pass columns as well in the dataframes. \n",
    "frame2.columns"
   ]
  },
  {
   "cell_type": "code",
   "execution_count": 17,
   "id": "77afc7c3",
   "metadata": {},
   "outputs": [
    {
     "data": {
      "text/plain": [
       "1    osaka\n",
       "2    osaka\n",
       "3    osaka\n",
       "4    kyoto\n",
       "5    kyoto\n",
       "6    kyoto\n",
       "Name: city, dtype: object"
      ]
     },
     "execution_count": 17,
     "metadata": {},
     "output_type": "execute_result"
    }
   ],
   "source": [
    "#column in dataframe can be retrieved as a series either by dict like notation or attributes.\n",
    "# attributes stores info about the object.\n",
    "# Methods are functions inside the object that makes it perform some action.\n",
    "\n",
    "frame2[\"city\"]\n",
    "frame2.city\n",
    "\n",
    "# attribute-like accesss(frame.city) only works when the column name is valid python variable name but frame2[column] works for any column name. \n",
    "# make sure to note the returned series have the same index as the Dataframe and their name attribute has beemn appropriately set."
   ]
  },
  {
   "cell_type": "code",
   "execution_count": 18,
   "id": "78340404",
   "metadata": {},
   "outputs": [
    {
     "data": {
      "text/plain": [
       "year             2005\n",
       "city            osaka\n",
       "population    2750000\n",
       "debt              NaN\n",
       "Name: 2, dtype: object"
      ]
     },
     "execution_count": 18,
     "metadata": {},
     "output_type": "execute_result"
    }
   ],
   "source": [
    "# Rows can be retrieved by position or namme with the special loc attrribute:\n",
    "frame2.loc[2]"
   ]
  },
  {
   "cell_type": "code",
   "execution_count": 19,
   "id": "3915a5eb",
   "metadata": {},
   "outputs": [
    {
     "data": {
      "text/html": [
       "<div>\n",
       "<style scoped>\n",
       "    .dataframe tbody tr th:only-of-type {\n",
       "        vertical-align: middle;\n",
       "    }\n",
       "\n",
       "    .dataframe tbody tr th {\n",
       "        vertical-align: top;\n",
       "    }\n",
       "\n",
       "    .dataframe thead th {\n",
       "        text-align: right;\n",
       "    }\n",
       "</style>\n",
       "<table border=\"1\" class=\"dataframe\">\n",
       "  <thead>\n",
       "    <tr style=\"text-align: right;\">\n",
       "      <th></th>\n",
       "      <th>year</th>\n",
       "      <th>city</th>\n",
       "      <th>population</th>\n",
       "      <th>debt</th>\n",
       "    </tr>\n",
       "  </thead>\n",
       "  <tbody>\n",
       "    <tr>\n",
       "      <th>1</th>\n",
       "      <td>2000</td>\n",
       "      <td>osaka</td>\n",
       "      <td>2700000</td>\n",
       "      <td>0</td>\n",
       "    </tr>\n",
       "    <tr>\n",
       "      <th>2</th>\n",
       "      <td>2005</td>\n",
       "      <td>osaka</td>\n",
       "      <td>2750000</td>\n",
       "      <td>1</td>\n",
       "    </tr>\n",
       "    <tr>\n",
       "      <th>3</th>\n",
       "      <td>2010</td>\n",
       "      <td>osaka</td>\n",
       "      <td>2800000</td>\n",
       "      <td>2</td>\n",
       "    </tr>\n",
       "    <tr>\n",
       "      <th>4</th>\n",
       "      <td>2000</td>\n",
       "      <td>kyoto</td>\n",
       "      <td>1500000</td>\n",
       "      <td>3</td>\n",
       "    </tr>\n",
       "    <tr>\n",
       "      <th>5</th>\n",
       "      <td>2005</td>\n",
       "      <td>kyoto</td>\n",
       "      <td>1550000</td>\n",
       "      <td>4</td>\n",
       "    </tr>\n",
       "    <tr>\n",
       "      <th>6</th>\n",
       "      <td>2010</td>\n",
       "      <td>kyoto</td>\n",
       "      <td>1600000</td>\n",
       "      <td>5</td>\n",
       "    </tr>\n",
       "  </tbody>\n",
       "</table>\n",
       "</div>"
      ],
      "text/plain": [
       "   year   city  population  debt\n",
       "1  2000  osaka     2700000     0\n",
       "2  2005  osaka     2750000     1\n",
       "3  2010  osaka     2800000     2\n",
       "4  2000  kyoto     1500000     3\n",
       "5  2005  kyoto     1550000     4\n",
       "6  2010  kyoto     1600000     5"
      ]
     },
     "execution_count": 19,
     "metadata": {},
     "output_type": "execute_result"
    }
   ],
   "source": [
    "# columns can be modified by assignment.\n",
    "frame[\"debt\"]=20.2 #it can also modify. \n",
    "frame2[\"debt\"]=np.arange(6) #np is numpy func that creates an array of evebnly spaced values over a specified range. numpy.arange([start,] stop[, step], dtype=None)\n",
    "\n",
    "frame2"
   ]
  },
  {
   "cell_type": "code",
   "execution_count": 20,
   "id": "deb12e93",
   "metadata": {},
   "outputs": [
    {
     "data": {
      "text/html": [
       "<div>\n",
       "<style scoped>\n",
       "    .dataframe tbody tr th:only-of-type {\n",
       "        vertical-align: middle;\n",
       "    }\n",
       "\n",
       "    .dataframe tbody tr th {\n",
       "        vertical-align: top;\n",
       "    }\n",
       "\n",
       "    .dataframe thead th {\n",
       "        text-align: right;\n",
       "    }\n",
       "</style>\n",
       "<table border=\"1\" class=\"dataframe\">\n",
       "  <thead>\n",
       "    <tr style=\"text-align: right;\">\n",
       "      <th></th>\n",
       "      <th>year</th>\n",
       "      <th>city</th>\n",
       "      <th>population</th>\n",
       "      <th>debt</th>\n",
       "    </tr>\n",
       "  </thead>\n",
       "  <tbody>\n",
       "    <tr>\n",
       "      <th>1</th>\n",
       "      <td>2000</td>\n",
       "      <td>osaka</td>\n",
       "      <td>2700000</td>\n",
       "      <td>NaN</td>\n",
       "    </tr>\n",
       "    <tr>\n",
       "      <th>2</th>\n",
       "      <td>2005</td>\n",
       "      <td>osaka</td>\n",
       "      <td>2750000</td>\n",
       "      <td>-1.2</td>\n",
       "    </tr>\n",
       "    <tr>\n",
       "      <th>3</th>\n",
       "      <td>2010</td>\n",
       "      <td>osaka</td>\n",
       "      <td>2800000</td>\n",
       "      <td>2.3</td>\n",
       "    </tr>\n",
       "    <tr>\n",
       "      <th>4</th>\n",
       "      <td>2000</td>\n",
       "      <td>kyoto</td>\n",
       "      <td>1500000</td>\n",
       "      <td>-5.7</td>\n",
       "    </tr>\n",
       "    <tr>\n",
       "      <th>5</th>\n",
       "      <td>2005</td>\n",
       "      <td>kyoto</td>\n",
       "      <td>1550000</td>\n",
       "      <td>NaN</td>\n",
       "    </tr>\n",
       "    <tr>\n",
       "      <th>6</th>\n",
       "      <td>2010</td>\n",
       "      <td>kyoto</td>\n",
       "      <td>1600000</td>\n",
       "      <td>NaN</td>\n",
       "    </tr>\n",
       "  </tbody>\n",
       "</table>\n",
       "</div>"
      ],
      "text/plain": [
       "   year   city  population  debt\n",
       "1  2000  osaka     2700000   NaN\n",
       "2  2005  osaka     2750000  -1.2\n",
       "3  2010  osaka     2800000   2.3\n",
       "4  2000  kyoto     1500000  -5.7\n",
       "5  2005  kyoto     1550000   NaN\n",
       "6  2010  kyoto     1600000   NaN"
      ]
     },
     "execution_count": 20,
     "metadata": {},
     "output_type": "execute_result"
    }
   ],
   "source": [
    "# when we are assigning list or arrays to a column, the values length must match the length of dataframe. If series is assigned, its lables will be realigned exactly to Dataframe index, inserting missing values.\n",
    "val=pd.Series([-1.2,2.3,-5.7],index=(2,3,4))\n",
    "frame2[\"debt\"]=val\n",
    "frame2"
   ]
  },
  {
   "cell_type": "code",
   "execution_count": 21,
   "id": "e2ba55d9",
   "metadata": {},
   "outputs": [
    {
     "data": {
      "text/plain": [
       "Index(['year', 'city', 'population', 'debt'], dtype='object')"
      ]
     },
     "execution_count": 21,
     "metadata": {},
     "output_type": "execute_result"
    }
   ],
   "source": [
    "#new columns cannot be created with frame2.columns syntax.\n",
    "# Assigning the column that doesnt exist will create a new column. The del keywordwill delete columns as with a dict.\n",
    "frame2[\"foreigners\"]=frame.city==\"osaka\"\n",
    "# it returns boolean values, each row in foreigners is true if city equals osaka basically.\n",
    "frame2\n",
    "del frame2[\"foreigners\"]\n",
    "frame2.columns\n"
   ]
  },
  {
   "cell_type": "markdown",
   "id": "ab86f5ee",
   "metadata": {},
   "source": [
    "# Note\n",
    "The column returned from indexing a DataFrame is a view on the underlying data, not a copy. thus, any in place modification to the series will be reflected in data frame. The column can be explicitly copied with the series's copy method. "
   ]
  },
  {
   "cell_type": "code",
   "execution_count": 22,
   "id": "f6df320b",
   "metadata": {},
   "outputs": [
    {
     "data": {
      "text/html": [
       "<div>\n",
       "<style scoped>\n",
       "    .dataframe tbody tr th:only-of-type {\n",
       "        vertical-align: middle;\n",
       "    }\n",
       "\n",
       "    .dataframe tbody tr th {\n",
       "        vertical-align: top;\n",
       "    }\n",
       "\n",
       "    .dataframe thead th {\n",
       "        text-align: right;\n",
       "    }\n",
       "</style>\n",
       "<table border=\"1\" class=\"dataframe\">\n",
       "  <thead>\n",
       "    <tr style=\"text-align: right;\">\n",
       "      <th></th>\n",
       "      <th>2001</th>\n",
       "      <th>2002</th>\n",
       "      <th>2000</th>\n",
       "    </tr>\n",
       "  </thead>\n",
       "  <tbody>\n",
       "    <tr>\n",
       "      <th>Hiroshima</th>\n",
       "      <td>2.4</td>\n",
       "      <td>2.9</td>\n",
       "      <td>NaN</td>\n",
       "    </tr>\n",
       "    <tr>\n",
       "      <th>Nara</th>\n",
       "      <td>1.8</td>\n",
       "      <td>3.6</td>\n",
       "      <td>1.5</td>\n",
       "    </tr>\n",
       "  </tbody>\n",
       "</table>\n",
       "</div>"
      ],
      "text/plain": [
       "           2001  2002  2000\n",
       "Hiroshima   2.4   2.9   NaN\n",
       "Nara        1.8   3.6   1.5"
      ]
     },
     "execution_count": 22,
     "metadata": {},
     "output_type": "execute_result"
    }
   ],
   "source": [
    "# another common form of data is nested dict of dicts:\n",
    "pop={\"Hiroshima\": {2001:2.4,2002:2.9},\n",
    "    \"Nara\":{2000:1.5,2001:1.8,2002:3.6}}\n",
    "\n",
    "frame3=pd.DataFrame(pop)\n",
    "frame3\n",
    "\n",
    "#we can transpse the Dataframe (swaps rows and columns) with similar syntax to numpy array:\n",
    "frame3.T"
   ]
  },
  {
   "cell_type": "code",
   "execution_count": 23,
   "id": "6c817049",
   "metadata": {},
   "outputs": [
    {
     "data": {
      "text/html": [
       "<div>\n",
       "<style scoped>\n",
       "    .dataframe tbody tr th:only-of-type {\n",
       "        vertical-align: middle;\n",
       "    }\n",
       "\n",
       "    .dataframe tbody tr th {\n",
       "        vertical-align: top;\n",
       "    }\n",
       "\n",
       "    .dataframe thead th {\n",
       "        text-align: right;\n",
       "    }\n",
       "</style>\n",
       "<table border=\"1\" class=\"dataframe\">\n",
       "  <thead>\n",
       "    <tr style=\"text-align: right;\">\n",
       "      <th></th>\n",
       "      <th>Hiroshima</th>\n",
       "      <th>Nara</th>\n",
       "    </tr>\n",
       "  </thead>\n",
       "  <tbody>\n",
       "    <tr>\n",
       "      <th>2001</th>\n",
       "      <td>2.4</td>\n",
       "      <td>1.8</td>\n",
       "    </tr>\n",
       "    <tr>\n",
       "      <th>2002</th>\n",
       "      <td>2.9</td>\n",
       "      <td>3.6</td>\n",
       "    </tr>\n",
       "    <tr>\n",
       "      <th>2003</th>\n",
       "      <td>NaN</td>\n",
       "      <td>NaN</td>\n",
       "    </tr>\n",
       "    <tr>\n",
       "      <th>2000</th>\n",
       "      <td>NaN</td>\n",
       "      <td>1.5</td>\n",
       "    </tr>\n",
       "  </tbody>\n",
       "</table>\n",
       "</div>"
      ],
      "text/plain": [
       "      Hiroshima  Nara\n",
       "2001        2.4   1.8\n",
       "2002        2.9   3.6\n",
       "2003        NaN   NaN\n",
       "2000        NaN   1.5"
      ]
     },
     "execution_count": 23,
     "metadata": {},
     "output_type": "execute_result"
    }
   ],
   "source": [
    "# Keys in the inner dicts are combined and soted to form the index in the results. This isnt true if an explicit index is specified.\n",
    "pd.DataFrame(pop,index=[2001,2002,2003,2000])"
   ]
  },
  {
   "cell_type": "code",
   "execution_count": 24,
   "id": "1620222c",
   "metadata": {},
   "outputs": [
    {
     "data": {
      "text/html": [
       "<div>\n",
       "<style scoped>\n",
       "    .dataframe tbody tr th:only-of-type {\n",
       "        vertical-align: middle;\n",
       "    }\n",
       "\n",
       "    .dataframe tbody tr th {\n",
       "        vertical-align: top;\n",
       "    }\n",
       "\n",
       "    .dataframe thead th {\n",
       "        text-align: right;\n",
       "    }\n",
       "</style>\n",
       "<table border=\"1\" class=\"dataframe\">\n",
       "  <thead>\n",
       "    <tr style=\"text-align: right;\">\n",
       "      <th></th>\n",
       "      <th>Nara</th>\n",
       "      <th>Hiroshima</th>\n",
       "    </tr>\n",
       "  </thead>\n",
       "  <tbody>\n",
       "    <tr>\n",
       "      <th>2001</th>\n",
       "      <td>1.8</td>\n",
       "      <td>2.4</td>\n",
       "    </tr>\n",
       "    <tr>\n",
       "      <th>2002</th>\n",
       "      <td>3.6</td>\n",
       "      <td>2.9</td>\n",
       "    </tr>\n",
       "  </tbody>\n",
       "</table>\n",
       "</div>"
      ],
      "text/plain": [
       "      Nara  Hiroshima\n",
       "2001   1.8        2.4\n",
       "2002   3.6        2.9"
      ]
     },
     "execution_count": 24,
     "metadata": {},
     "output_type": "execute_result"
    }
   ],
   "source": [
    "# Dict of series are treated in much the same way:\n",
    "pdata={\"Nara\":frame3[\"Nara\"][:-1],\n",
    "        \"Hiroshima\":frame3[\"Hiroshima\"][:2]}\n",
    "pd.DataFrame(pdata)"
   ]
  },
  {
   "cell_type": "code",
   "execution_count": 25,
   "id": "b56dec0c",
   "metadata": {},
   "outputs": [
    {
     "data": {
      "text/html": [
       "<div>\n",
       "<style scoped>\n",
       "    .dataframe tbody tr th:only-of-type {\n",
       "        vertical-align: middle;\n",
       "    }\n",
       "\n",
       "    .dataframe tbody tr th {\n",
       "        vertical-align: top;\n",
       "    }\n",
       "\n",
       "    .dataframe thead th {\n",
       "        text-align: right;\n",
       "    }\n",
       "</style>\n",
       "<table border=\"1\" class=\"dataframe\">\n",
       "  <thead>\n",
       "    <tr style=\"text-align: right;\">\n",
       "      <th>state</th>\n",
       "      <th>Hiroshima</th>\n",
       "      <th>Nara</th>\n",
       "    </tr>\n",
       "    <tr>\n",
       "      <th>year</th>\n",
       "      <th></th>\n",
       "      <th></th>\n",
       "    </tr>\n",
       "  </thead>\n",
       "  <tbody>\n",
       "    <tr>\n",
       "      <th>2001</th>\n",
       "      <td>2.4</td>\n",
       "      <td>1.8</td>\n",
       "    </tr>\n",
       "    <tr>\n",
       "      <th>2002</th>\n",
       "      <td>2.9</td>\n",
       "      <td>3.6</td>\n",
       "    </tr>\n",
       "    <tr>\n",
       "      <th>2000</th>\n",
       "      <td>NaN</td>\n",
       "      <td>1.5</td>\n",
       "    </tr>\n",
       "  </tbody>\n",
       "</table>\n",
       "</div>"
      ],
      "text/plain": [
       "state  Hiroshima  Nara\n",
       "year                  \n",
       "2001         2.4   1.8\n",
       "2002         2.9   3.6\n",
       "2000         NaN   1.5"
      ]
     },
     "execution_count": 25,
     "metadata": {},
     "output_type": "execute_result"
    }
   ],
   "source": [
    "# if a dataframe index and column have their name attributes set,\n",
    "frame3.index.name=\"year\"; frame3.columns.name=\"state\"\n",
    "frame3"
   ]
  },
  {
   "cell_type": "code",
   "execution_count": 26,
   "id": "714512d0",
   "metadata": {},
   "outputs": [
    {
     "data": {
      "text/plain": [
       "array([[2000, 'osaka', 2700000, nan],\n",
       "       [2005, 'osaka', 2750000, -1.2],\n",
       "       [2010, 'osaka', 2800000, 2.3],\n",
       "       [2000, 'kyoto', 1500000, -5.7],\n",
       "       [2005, 'kyoto', 1550000, nan],\n",
       "       [2010, 'kyoto', 1600000, nan]], dtype=object)"
      ]
     },
     "execution_count": 26,
     "metadata": {},
     "output_type": "execute_result"
    }
   ],
   "source": [
    "# as with series the values attributes returns the data contained in the Dataframe as tow-dimensional array.\n",
    "frame3.values\n",
    "\n",
    "# if the dataframes's column have differnt dtypes, the dtypes values array will be chosen to accomodate all of the columns:\n",
    "frame2.values"
   ]
  },
  {
   "cell_type": "code",
   "execution_count": 31,
   "id": "05c47414",
   "metadata": {},
   "outputs": [
    {
     "data": {
      "text/plain": [
       "True"
      ]
     },
     "execution_count": 31,
     "metadata": {},
     "output_type": "execute_result"
    }
   ],
   "source": [
    "# Index objects: it is responsible for holding the axis labels and other metadata. Any array or other sequence of labels we use constructing a series and data frame is internally converted to index.\n",
    "\n",
    "obj=pd.Series(range(3), index=[\"a\",\"b\",\"c\"])\n",
    "index=obj.index\n",
    "index\n",
    "\n",
    "# index objects are immutable and cannot be modified by the user, which makes safer to share index objects among data structures.\n",
    "labels=pd.Index(np.arange(2))\n",
    "labels\n",
    "\n",
    "obj2=pd.Series([1.5,2.4],index=labels)\n",
    "obj2.index is labels"
   ]
  },
  {
   "cell_type": "code",
   "execution_count": null,
   "id": "60839a5f",
   "metadata": {},
   "outputs": [
    {
     "data": {
      "text/plain": [
       "Index(['Nara', 'Nara', 'osaka'], dtype='object')"
      ]
     },
     "execution_count": 36,
     "metadata": {},
     "output_type": "execute_result"
    }
   ],
   "source": [
    "# index also behaves like fixed-size set: \n",
    "frame3\n",
    "frame3.columns\n",
    "\"Nara\" in frame3.columns\n",
    "\n",
    "# unlike python sets, a pandas index can contain duplicate labels.\n",
    "dup_lab=pd.Index([\"Nara\",\"Nara\",\"osaka\"])\n",
    "dup_lab\n",
    "# selection with duplicate labels will select all occurances of that label. "
   ]
  }
 ],
 "metadata": {
  "kernelspec": {
   "display_name": ".venv",
   "language": "python",
   "name": "python3"
  },
  "language_info": {
   "codemirror_mode": {
    "name": "ipython",
    "version": 3
   },
   "file_extension": ".py",
   "mimetype": "text/x-python",
   "name": "python",
   "nbconvert_exporter": "python",
   "pygments_lexer": "ipython3",
   "version": "3.10.0"
  }
 },
 "nbformat": 4,
 "nbformat_minor": 5
}
