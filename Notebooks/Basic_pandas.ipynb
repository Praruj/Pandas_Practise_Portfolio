{
 "cells": [
  {
   "cell_type": "markdown",
   "id": "0765359d",
   "metadata": {},
   "source": [
    "# Pandas:\n",
    "Contains data structures and data manipulation tools designed to make data cleaning and analysis fast and easy.\n",
    "Pandas is designed for working in tabular or heterogeneous data, whereas numpy is suited for working with homogenous numerical array data.\n"
   ]
  },
  {
   "cell_type": "code",
   "execution_count": 1,
   "id": "b37b3893",
   "metadata": {},
   "outputs": [
    {
     "ename": "ModuleNotFoundError",
     "evalue": "No module named 'pandas'",
     "output_type": "error",
     "traceback": [
      "\u001b[1;31m---------------------------------------------------------------------------\u001b[0m",
      "\u001b[1;31mModuleNotFoundError\u001b[0m                       Traceback (most recent call last)",
      "Cell \u001b[1;32mIn[1], line 1\u001b[0m\n\u001b[1;32m----> 1\u001b[0m \u001b[38;5;28;01mimport\u001b[39;00m\u001b[38;5;250m \u001b[39m\u001b[38;5;21;01mpandas\u001b[39;00m\u001b[38;5;250m \u001b[39m\u001b[38;5;28;01mas\u001b[39;00m\u001b[38;5;250m \u001b[39m\u001b[38;5;21;01mpd\u001b[39;00m\n\u001b[0;32m      2\u001b[0m \u001b[38;5;28;01mimport\u001b[39;00m\u001b[38;5;250m \u001b[39m\u001b[38;5;21;01mnumpy\u001b[39;00m\u001b[38;5;250m \u001b[39m\u001b[38;5;28;01mas\u001b[39;00m\u001b[38;5;250m \u001b[39m\u001b[38;5;21;01mnp\u001b[39;00m\n\u001b[0;32m      4\u001b[0m \u001b[38;5;66;03m#from now, wherever pd appears, it refers to pandas.  and whole module is being imported. \u001b[39;00m\n",
      "\u001b[1;31mModuleNotFoundError\u001b[0m: No module named 'pandas'"
     ]
    }
   ],
   "source": [
    "import pandas as pd\n",
    "import numpy as np\n",
    "\n",
    "#from now, wherever pd appears, it refers to pandas.  and whole module is being imported. \n",
    "from pandas import DataFrame, Series  #easier to import into local namespace. only series and data frames are being imported"
   ]
  },
  {
   "cell_type": "code",
   "execution_count": 104,
   "id": "c065c352",
   "metadata": {},
   "outputs": [
    {
     "name": "stdout",
     "output_type": "stream",
     "text": [
      "0    4\n",
      "1    7\n",
      "2   -5\n",
      "3    8\n",
      "dtype: int64\n",
      "[ 4  7 -5  8]\n",
      "RangeIndex(start=0, stop=4, step=1)\n"
     ]
    }
   ],
   "source": [
    "# Pandas data structure\n",
    "#1. series : one-dimensional array like object containing a sequence of values and an associated array of data labels called index. \n",
    "obj=pd.Series([4,7,-5,8])\n",
    "print(obj)\n",
    "#it gives index on left and values on the right. , from 0 to n -1 in default. \n",
    "# we can get array representation  and index object of the series via its values and index attributes respectively.\n",
    "\n",
    "print(obj.values)\n",
    "print(obj.index)"
   ]
  },
  {
   "cell_type": "code",
   "execution_count": 105,
   "id": "5201ed9e",
   "metadata": {},
   "outputs": [
    {
     "name": "stdout",
     "output_type": "stream",
     "text": [
      "a    1\n",
      "b    2\n",
      "c    3\n",
      "d    4\n",
      "dtype: int64\n",
      "Index(['a', 'b', 'c', 'd'], dtype='object')\n"
     ]
    },
    {
     "data": {
      "text/plain": [
       "a    1\n",
       "b    2\n",
       "c    3\n",
       "dtype: int64"
      ]
     },
     "execution_count": 105,
     "metadata": {},
     "output_type": "execute_result"
    }
   ],
   "source": [
    "# It is good to create the series with an index identifying each data point with a label.\n",
    "obj2=pd.Series([1,2,3,4],index=(\"a\",\"b\",\"c\",\"d\"))\n",
    "print(obj2)\n",
    "\n",
    "print(obj2.index)\n",
    "\n",
    "#compared with numpy arrays, we can label in the index when selecting single values or set of values.\n",
    "obj2[[\"a\",\"b\",\"c\"]] \n",
    "# here is [\"a\",\"b\",\"C\"] is intepreted as list of indices, even though it contains strings instead of integers."
   ]
  },
  {
   "cell_type": "code",
   "execution_count": 106,
   "id": "e15e30fe",
   "metadata": {},
   "outputs": [
    {
     "name": "stdout",
     "output_type": "stream",
     "text": [
      "alexa      3000.0\n",
      "siri       2000.0\n",
      "gemini    12000.0\n",
      "dtype: float64\n",
      "grok         NaN\n",
      "alexa     3000.0\n",
      "claude       NaN\n",
      "dtype: float64\n"
     ]
    }
   ],
   "source": [
    "# Series is a fixed-length, ordered dict as it is a mapping of index values to the data values. \n",
    "# we can create series form by passing dictionary. \n",
    "\n",
    "data={\"alexa\":3000.,\"siri\":2000,\"gemini\":12000}\n",
    "obj3=pd.Series(data)\n",
    "print(obj3)\n",
    "# dict keys are being index in resulting series. \n",
    "\n",
    "machines={\"grok\",\"alexa\",\"claude\"}\n",
    "obj4=pd.Series(data,index=machines)\n",
    "print(obj4)\n",
    "\n",
    "# one value is found in data placed in appropriate location, returned NaN (not a number) which is considered in pandas for missing values.  \n"
   ]
  },
  {
   "cell_type": "code",
   "execution_count": 107,
   "id": "3ec36575",
   "metadata": {},
   "outputs": [
    {
     "data": {
      "text/plain": [
       "grok      False\n",
       "alexa      True\n",
       "claude    False\n",
       "dtype: bool"
      ]
     },
     "execution_count": 107,
     "metadata": {},
     "output_type": "execute_result"
    }
   ],
   "source": [
    "# the isnull and not null function in pandas should be used to detect missing data.:\n",
    "pd.isnull(obj4) #marks true for missing null values and false for valid for non-missing data.\n",
    "pd.notnull(obj4) #marks true for non missing data and marks False for missing data"
   ]
  },
  {
   "cell_type": "code",
   "execution_count": 108,
   "id": "656328ac",
   "metadata": {},
   "outputs": [
    {
     "data": {
      "text/plain": [
       "grok       True\n",
       "alexa     False\n",
       "claude     True\n",
       "dtype: bool"
      ]
     },
     "execution_count": 108,
     "metadata": {},
     "output_type": "execute_result"
    }
   ],
   "source": [
    "#Series also have instance methods: functions that are defined inside class, They have access to instances attributes and can modify the state of that specific instance.\n",
    "obj4.isnull()"
   ]
  },
  {
   "cell_type": "code",
   "execution_count": 109,
   "id": "71d6c11c",
   "metadata": {},
   "outputs": [
    {
     "data": {
      "text/plain": [
       "alexa     6000.0\n",
       "claude       NaN\n",
       "gemini       NaN\n",
       "grok         NaN\n",
       "siri         NaN\n",
       "dtype: float64"
      ]
     },
     "execution_count": 109,
     "metadata": {},
     "output_type": "execute_result"
    }
   ],
   "source": [
    "# Series features automatically aligns by index label in airthmetic operations.\n",
    "obj3+obj4"
   ]
  },
  {
   "cell_type": "code",
   "execution_count": 110,
   "id": "59c7052c",
   "metadata": {},
   "outputs": [
    {
     "name": "stdout",
     "output_type": "stream",
     "text": [
      "Device\n",
      "grok         NaN\n",
      "alexa     3000.0\n",
      "claude       NaN\n",
      "Name: Users, dtype: float64\n"
     ]
    }
   ],
   "source": [
    "# Series object and index have objects(value) have name attribute, which integrates with other key areas of pandas functionality.\n",
    "obj4.name=\"Users\"\n",
    "obj4.index.name=\"Device\"\n",
    "print(obj4)\n",
    "\n",
    "# device is index name and Users is the series name or column name. "
   ]
  },
  {
   "cell_type": "code",
   "execution_count": 111,
   "id": "b6b3a4d1",
   "metadata": {},
   "outputs": [
    {
     "data": {
      "text/plain": [
       "gita       4\n",
       "Ram        7\n",
       "Yamada    -5\n",
       "galilei    8\n",
       "dtype: int64"
      ]
     },
     "execution_count": 111,
     "metadata": {},
     "output_type": "execute_result"
    }
   ],
   "source": [
    "# series index can be altered in place by assignments\n",
    "obj\n",
    "obj.index=[\"gita\",\"Ram\",\"Yamada\",\"galilei\"]\n",
    "obj"
   ]
  },
  {
   "cell_type": "markdown",
   "id": "5b07e674",
   "metadata": {},
   "source": [
    "## Data Frame in Pandas: \n",
    "Represents a rectangular table of data and contains an ordered collection of columnns, each of which can be different value type (numeric,string, boolean,etc). It has both row and column index; it can be taken as a dict of series all sharing same index.  The data is stored as one or more two-dimensional blocks rather than a list, dict or some other collection of one dimensional array. "
   ]
  },
  {
   "cell_type": "code",
   "execution_count": 112,
   "id": "eda72acd",
   "metadata": {},
   "outputs": [
    {
     "name": "stdout",
     "output_type": "stream",
     "text": [
      "    city  year  population\n",
      "0  osaka  2000     2700000\n",
      "1  osaka  2005     2750000\n",
      "2  osaka  2010     2800000\n",
      "3  kyoto  2000     1500000\n",
      "4  kyoto  2005     1550000\n",
      "5  kyoto  2010     1600000\n"
     ]
    },
    {
     "data": {
      "text/html": [
       "<div>\n",
       "<style scoped>\n",
       "    .dataframe tbody tr th:only-of-type {\n",
       "        vertical-align: middle;\n",
       "    }\n",
       "\n",
       "    .dataframe tbody tr th {\n",
       "        vertical-align: top;\n",
       "    }\n",
       "\n",
       "    .dataframe thead th {\n",
       "        text-align: right;\n",
       "    }\n",
       "</style>\n",
       "<table border=\"1\" class=\"dataframe\">\n",
       "  <thead>\n",
       "    <tr style=\"text-align: right;\">\n",
       "      <th></th>\n",
       "      <th>city</th>\n",
       "      <th>year</th>\n",
       "      <th>population</th>\n",
       "    </tr>\n",
       "  </thead>\n",
       "  <tbody>\n",
       "    <tr>\n",
       "      <th>0</th>\n",
       "      <td>osaka</td>\n",
       "      <td>2000</td>\n",
       "      <td>2700000</td>\n",
       "    </tr>\n",
       "    <tr>\n",
       "      <th>1</th>\n",
       "      <td>osaka</td>\n",
       "      <td>2005</td>\n",
       "      <td>2750000</td>\n",
       "    </tr>\n",
       "    <tr>\n",
       "      <th>2</th>\n",
       "      <td>osaka</td>\n",
       "      <td>2010</td>\n",
       "      <td>2800000</td>\n",
       "    </tr>\n",
       "    <tr>\n",
       "      <th>3</th>\n",
       "      <td>kyoto</td>\n",
       "      <td>2000</td>\n",
       "      <td>1500000</td>\n",
       "    </tr>\n",
       "    <tr>\n",
       "      <th>4</th>\n",
       "      <td>kyoto</td>\n",
       "      <td>2005</td>\n",
       "      <td>1550000</td>\n",
       "    </tr>\n",
       "  </tbody>\n",
       "</table>\n",
       "</div>"
      ],
      "text/plain": [
       "    city  year  population\n",
       "0  osaka  2000     2700000\n",
       "1  osaka  2005     2750000\n",
       "2  osaka  2010     2800000\n",
       "3  kyoto  2000     1500000\n",
       "4  kyoto  2005     1550000"
      ]
     },
     "execution_count": 112,
     "metadata": {},
     "output_type": "execute_result"
    }
   ],
   "source": [
    "data={\n",
    "    \"city\":[\"osaka\",\"osaka\",\"osaka\",\"kyoto\",\"kyoto\",\"kyoto\"],\n",
    "    \"year\":[2000,2005,2010,2000,2005,2010],\n",
    "    \"population\":[2700000, 2750000, 2800000, 1500000, 1550000, 1600000]\n",
    "}\n",
    "frame=pd.DataFrame(data)\n",
    "print(frame) #Dataframe will have its index assigned automatically as with Series, and the columns are placed in sorted order.\n",
    "#for large dataframes, the head method selects only first five rows. \n",
    "frame.head()"
   ]
  },
  {
   "cell_type": "code",
   "execution_count": 113,
   "id": "b0b2442a",
   "metadata": {},
   "outputs": [
    {
     "data": {
      "text/html": [
       "<div>\n",
       "<style scoped>\n",
       "    .dataframe tbody tr th:only-of-type {\n",
       "        vertical-align: middle;\n",
       "    }\n",
       "\n",
       "    .dataframe tbody tr th {\n",
       "        vertical-align: top;\n",
       "    }\n",
       "\n",
       "    .dataframe thead th {\n",
       "        text-align: right;\n",
       "    }\n",
       "</style>\n",
       "<table border=\"1\" class=\"dataframe\">\n",
       "  <thead>\n",
       "    <tr style=\"text-align: right;\">\n",
       "      <th></th>\n",
       "      <th>population</th>\n",
       "      <th>city</th>\n",
       "      <th>year</th>\n",
       "    </tr>\n",
       "  </thead>\n",
       "  <tbody>\n",
       "    <tr>\n",
       "      <th>0</th>\n",
       "      <td>2700000</td>\n",
       "      <td>osaka</td>\n",
       "      <td>2000</td>\n",
       "    </tr>\n",
       "    <tr>\n",
       "      <th>1</th>\n",
       "      <td>2750000</td>\n",
       "      <td>osaka</td>\n",
       "      <td>2005</td>\n",
       "    </tr>\n",
       "    <tr>\n",
       "      <th>2</th>\n",
       "      <td>2800000</td>\n",
       "      <td>osaka</td>\n",
       "      <td>2010</td>\n",
       "    </tr>\n",
       "    <tr>\n",
       "      <th>3</th>\n",
       "      <td>1500000</td>\n",
       "      <td>kyoto</td>\n",
       "      <td>2000</td>\n",
       "    </tr>\n",
       "    <tr>\n",
       "      <th>4</th>\n",
       "      <td>1550000</td>\n",
       "      <td>kyoto</td>\n",
       "      <td>2005</td>\n",
       "    </tr>\n",
       "    <tr>\n",
       "      <th>5</th>\n",
       "      <td>1600000</td>\n",
       "      <td>kyoto</td>\n",
       "      <td>2010</td>\n",
       "    </tr>\n",
       "  </tbody>\n",
       "</table>\n",
       "</div>"
      ],
      "text/plain": [
       "   population   city  year\n",
       "0     2700000  osaka  2000\n",
       "1     2750000  osaka  2005\n",
       "2     2800000  osaka  2010\n",
       "3     1500000  kyoto  2000\n",
       "4     1550000  kyoto  2005\n",
       "5     1600000  kyoto  2010"
      ]
     },
     "execution_count": 113,
     "metadata": {},
     "output_type": "execute_result"
    }
   ],
   "source": [
    "# to specify the sequence of the columns, the dataframes columns can be arranged in that order.\n",
    "pd.DataFrame(data,columns=[\"population\",\"city\",\"year\"])"
   ]
  },
  {
   "cell_type": "code",
   "execution_count": 114,
   "id": "ae271292",
   "metadata": {},
   "outputs": [
    {
     "data": {
      "text/plain": [
       "Index(['year', 'city', 'population', 'debt'], dtype='object')"
      ]
     },
     "execution_count": 114,
     "metadata": {},
     "output_type": "execute_result"
    }
   ],
   "source": [
    "# if column which isnt in data is passed then NaN will appear.\n",
    "frame2=pd.DataFrame(data,columns=[\"year\",\"city\",\"population\",\"debt\"],index=[1,2,3,4,5,6])\n",
    "frame2\n",
    "\n",
    "#in this way we can set index and pass columns as well in the dataframes. \n",
    "frame2.columns"
   ]
  },
  {
   "cell_type": "code",
   "execution_count": 115,
   "id": "77afc7c3",
   "metadata": {},
   "outputs": [
    {
     "data": {
      "text/plain": [
       "1    osaka\n",
       "2    osaka\n",
       "3    osaka\n",
       "4    kyoto\n",
       "5    kyoto\n",
       "6    kyoto\n",
       "Name: city, dtype: object"
      ]
     },
     "execution_count": 115,
     "metadata": {},
     "output_type": "execute_result"
    }
   ],
   "source": [
    "#column in dataframe can be retrieved as a series either by dict like notation or attributes.\n",
    "# attributes stores info about the object.\n",
    "# Methods are functions inside the object that makes it perform some action.\n",
    "\n",
    "frame2[\"city\"]\n",
    "frame2.city\n",
    "\n",
    "# attribute-like accesss(frame.city) only works when the column name is valid python variable name but frame2[column] works for any column name. \n",
    "# make sure to note the returned series have the same index as the Dataframe and their name attribute has beemn appropriately set."
   ]
  },
  {
   "cell_type": "code",
   "execution_count": 116,
   "id": "78340404",
   "metadata": {},
   "outputs": [
    {
     "data": {
      "text/plain": [
       "year             2005\n",
       "city            osaka\n",
       "population    2750000\n",
       "debt              NaN\n",
       "Name: 2, dtype: object"
      ]
     },
     "execution_count": 116,
     "metadata": {},
     "output_type": "execute_result"
    }
   ],
   "source": [
    "# Rows can be retrieved by position or namme with the special loc attrribute:\n",
    "frame2.loc[2]"
   ]
  },
  {
   "cell_type": "code",
   "execution_count": 117,
   "id": "3915a5eb",
   "metadata": {},
   "outputs": [
    {
     "data": {
      "text/html": [
       "<div>\n",
       "<style scoped>\n",
       "    .dataframe tbody tr th:only-of-type {\n",
       "        vertical-align: middle;\n",
       "    }\n",
       "\n",
       "    .dataframe tbody tr th {\n",
       "        vertical-align: top;\n",
       "    }\n",
       "\n",
       "    .dataframe thead th {\n",
       "        text-align: right;\n",
       "    }\n",
       "</style>\n",
       "<table border=\"1\" class=\"dataframe\">\n",
       "  <thead>\n",
       "    <tr style=\"text-align: right;\">\n",
       "      <th></th>\n",
       "      <th>year</th>\n",
       "      <th>city</th>\n",
       "      <th>population</th>\n",
       "      <th>debt</th>\n",
       "    </tr>\n",
       "  </thead>\n",
       "  <tbody>\n",
       "    <tr>\n",
       "      <th>1</th>\n",
       "      <td>2000</td>\n",
       "      <td>osaka</td>\n",
       "      <td>2700000</td>\n",
       "      <td>0</td>\n",
       "    </tr>\n",
       "    <tr>\n",
       "      <th>2</th>\n",
       "      <td>2005</td>\n",
       "      <td>osaka</td>\n",
       "      <td>2750000</td>\n",
       "      <td>1</td>\n",
       "    </tr>\n",
       "    <tr>\n",
       "      <th>3</th>\n",
       "      <td>2010</td>\n",
       "      <td>osaka</td>\n",
       "      <td>2800000</td>\n",
       "      <td>2</td>\n",
       "    </tr>\n",
       "    <tr>\n",
       "      <th>4</th>\n",
       "      <td>2000</td>\n",
       "      <td>kyoto</td>\n",
       "      <td>1500000</td>\n",
       "      <td>3</td>\n",
       "    </tr>\n",
       "    <tr>\n",
       "      <th>5</th>\n",
       "      <td>2005</td>\n",
       "      <td>kyoto</td>\n",
       "      <td>1550000</td>\n",
       "      <td>4</td>\n",
       "    </tr>\n",
       "    <tr>\n",
       "      <th>6</th>\n",
       "      <td>2010</td>\n",
       "      <td>kyoto</td>\n",
       "      <td>1600000</td>\n",
       "      <td>5</td>\n",
       "    </tr>\n",
       "  </tbody>\n",
       "</table>\n",
       "</div>"
      ],
      "text/plain": [
       "   year   city  population  debt\n",
       "1  2000  osaka     2700000     0\n",
       "2  2005  osaka     2750000     1\n",
       "3  2010  osaka     2800000     2\n",
       "4  2000  kyoto     1500000     3\n",
       "5  2005  kyoto     1550000     4\n",
       "6  2010  kyoto     1600000     5"
      ]
     },
     "execution_count": 117,
     "metadata": {},
     "output_type": "execute_result"
    }
   ],
   "source": [
    "# columns can be modified by assignment.\n",
    "frame[\"debt\"]=20.2 #it can also modify. \n",
    "frame2[\"debt\"]=np.arange(6) #np is numpy func that creates an array of evebnly spaced values over a specified range. numpy.arange([start,] stop[, step], dtype=None)\n",
    "\n",
    "frame2"
   ]
  },
  {
   "cell_type": "code",
   "execution_count": 118,
   "id": "deb12e93",
   "metadata": {},
   "outputs": [
    {
     "data": {
      "text/html": [
       "<div>\n",
       "<style scoped>\n",
       "    .dataframe tbody tr th:only-of-type {\n",
       "        vertical-align: middle;\n",
       "    }\n",
       "\n",
       "    .dataframe tbody tr th {\n",
       "        vertical-align: top;\n",
       "    }\n",
       "\n",
       "    .dataframe thead th {\n",
       "        text-align: right;\n",
       "    }\n",
       "</style>\n",
       "<table border=\"1\" class=\"dataframe\">\n",
       "  <thead>\n",
       "    <tr style=\"text-align: right;\">\n",
       "      <th></th>\n",
       "      <th>year</th>\n",
       "      <th>city</th>\n",
       "      <th>population</th>\n",
       "      <th>debt</th>\n",
       "    </tr>\n",
       "  </thead>\n",
       "  <tbody>\n",
       "    <tr>\n",
       "      <th>1</th>\n",
       "      <td>2000</td>\n",
       "      <td>osaka</td>\n",
       "      <td>2700000</td>\n",
       "      <td>NaN</td>\n",
       "    </tr>\n",
       "    <tr>\n",
       "      <th>2</th>\n",
       "      <td>2005</td>\n",
       "      <td>osaka</td>\n",
       "      <td>2750000</td>\n",
       "      <td>-1.2</td>\n",
       "    </tr>\n",
       "    <tr>\n",
       "      <th>3</th>\n",
       "      <td>2010</td>\n",
       "      <td>osaka</td>\n",
       "      <td>2800000</td>\n",
       "      <td>2.3</td>\n",
       "    </tr>\n",
       "    <tr>\n",
       "      <th>4</th>\n",
       "      <td>2000</td>\n",
       "      <td>kyoto</td>\n",
       "      <td>1500000</td>\n",
       "      <td>-5.7</td>\n",
       "    </tr>\n",
       "    <tr>\n",
       "      <th>5</th>\n",
       "      <td>2005</td>\n",
       "      <td>kyoto</td>\n",
       "      <td>1550000</td>\n",
       "      <td>NaN</td>\n",
       "    </tr>\n",
       "    <tr>\n",
       "      <th>6</th>\n",
       "      <td>2010</td>\n",
       "      <td>kyoto</td>\n",
       "      <td>1600000</td>\n",
       "      <td>NaN</td>\n",
       "    </tr>\n",
       "  </tbody>\n",
       "</table>\n",
       "</div>"
      ],
      "text/plain": [
       "   year   city  population  debt\n",
       "1  2000  osaka     2700000   NaN\n",
       "2  2005  osaka     2750000  -1.2\n",
       "3  2010  osaka     2800000   2.3\n",
       "4  2000  kyoto     1500000  -5.7\n",
       "5  2005  kyoto     1550000   NaN\n",
       "6  2010  kyoto     1600000   NaN"
      ]
     },
     "execution_count": 118,
     "metadata": {},
     "output_type": "execute_result"
    }
   ],
   "source": [
    "# when we are assigning list or arrays to a column, the values length must match the length of dataframe. If series is assigned, its lables will be realigned exactly to Dataframe index, inserting missing values.\n",
    "val=pd.Series([-1.2,2.3,-5.7],index=(2,3,4))\n",
    "frame2[\"debt\"]=val\n",
    "frame2"
   ]
  },
  {
   "cell_type": "code",
   "execution_count": 119,
   "id": "e2ba55d9",
   "metadata": {},
   "outputs": [
    {
     "data": {
      "text/plain": [
       "Index(['year', 'city', 'population', 'debt'], dtype='object')"
      ]
     },
     "execution_count": 119,
     "metadata": {},
     "output_type": "execute_result"
    }
   ],
   "source": [
    "#new columns cannot be created with frame2.columns syntax.\n",
    "# Assigning the column that doesnt exist will create a new column. The del keywordwill delete columns as with a dict.\n",
    "frame2[\"foreigners\"]=frame.city==\"osaka\"\n",
    "# it returns boolean values, each row in foreigners is true if city equals osaka basically.\n",
    "frame2\n",
    "del frame2[\"foreigners\"]\n",
    "frame2.columns\n"
   ]
  },
  {
   "cell_type": "markdown",
   "id": "ab86f5ee",
   "metadata": {},
   "source": [
    "# Note\n",
    "The column returned from indexing a DataFrame is a view on the underlying data, not a copy. thus, any in place modification to the series will be reflected in data frame. The column can be explicitly copied with the series's copy method. "
   ]
  },
  {
   "cell_type": "code",
   "execution_count": 120,
   "id": "f6df320b",
   "metadata": {},
   "outputs": [
    {
     "data": {
      "text/html": [
       "<div>\n",
       "<style scoped>\n",
       "    .dataframe tbody tr th:only-of-type {\n",
       "        vertical-align: middle;\n",
       "    }\n",
       "\n",
       "    .dataframe tbody tr th {\n",
       "        vertical-align: top;\n",
       "    }\n",
       "\n",
       "    .dataframe thead th {\n",
       "        text-align: right;\n",
       "    }\n",
       "</style>\n",
       "<table border=\"1\" class=\"dataframe\">\n",
       "  <thead>\n",
       "    <tr style=\"text-align: right;\">\n",
       "      <th></th>\n",
       "      <th>2001</th>\n",
       "      <th>2002</th>\n",
       "      <th>2000</th>\n",
       "    </tr>\n",
       "  </thead>\n",
       "  <tbody>\n",
       "    <tr>\n",
       "      <th>Hiroshima</th>\n",
       "      <td>2.4</td>\n",
       "      <td>2.9</td>\n",
       "      <td>NaN</td>\n",
       "    </tr>\n",
       "    <tr>\n",
       "      <th>Nara</th>\n",
       "      <td>1.8</td>\n",
       "      <td>3.6</td>\n",
       "      <td>1.5</td>\n",
       "    </tr>\n",
       "  </tbody>\n",
       "</table>\n",
       "</div>"
      ],
      "text/plain": [
       "           2001  2002  2000\n",
       "Hiroshima   2.4   2.9   NaN\n",
       "Nara        1.8   3.6   1.5"
      ]
     },
     "execution_count": 120,
     "metadata": {},
     "output_type": "execute_result"
    }
   ],
   "source": [
    "# another common form of data is nested dict of dicts:\n",
    "pop={\"Hiroshima\": {2001:2.4,2002:2.9},\n",
    "    \"Nara\":{2000:1.5,2001:1.8,2002:3.6}}\n",
    "\n",
    "frame3=pd.DataFrame(pop)\n",
    "frame3\n",
    "\n",
    "#we can transpse the Dataframe (swaps rows and columns) with similar syntax to numpy array:\n",
    "frame3.T"
   ]
  },
  {
   "cell_type": "code",
   "execution_count": 121,
   "id": "6c817049",
   "metadata": {},
   "outputs": [
    {
     "data": {
      "text/html": [
       "<div>\n",
       "<style scoped>\n",
       "    .dataframe tbody tr th:only-of-type {\n",
       "        vertical-align: middle;\n",
       "    }\n",
       "\n",
       "    .dataframe tbody tr th {\n",
       "        vertical-align: top;\n",
       "    }\n",
       "\n",
       "    .dataframe thead th {\n",
       "        text-align: right;\n",
       "    }\n",
       "</style>\n",
       "<table border=\"1\" class=\"dataframe\">\n",
       "  <thead>\n",
       "    <tr style=\"text-align: right;\">\n",
       "      <th></th>\n",
       "      <th>Hiroshima</th>\n",
       "      <th>Nara</th>\n",
       "    </tr>\n",
       "  </thead>\n",
       "  <tbody>\n",
       "    <tr>\n",
       "      <th>2001</th>\n",
       "      <td>2.4</td>\n",
       "      <td>1.8</td>\n",
       "    </tr>\n",
       "    <tr>\n",
       "      <th>2002</th>\n",
       "      <td>2.9</td>\n",
       "      <td>3.6</td>\n",
       "    </tr>\n",
       "    <tr>\n",
       "      <th>2003</th>\n",
       "      <td>NaN</td>\n",
       "      <td>NaN</td>\n",
       "    </tr>\n",
       "    <tr>\n",
       "      <th>2000</th>\n",
       "      <td>NaN</td>\n",
       "      <td>1.5</td>\n",
       "    </tr>\n",
       "  </tbody>\n",
       "</table>\n",
       "</div>"
      ],
      "text/plain": [
       "      Hiroshima  Nara\n",
       "2001        2.4   1.8\n",
       "2002        2.9   3.6\n",
       "2003        NaN   NaN\n",
       "2000        NaN   1.5"
      ]
     },
     "execution_count": 121,
     "metadata": {},
     "output_type": "execute_result"
    }
   ],
   "source": [
    "# Keys in the inner dicts are combined and soted to form the index in the results. This isnt true if an explicit index is specified.\n",
    "pd.DataFrame(pop,index=[2001,2002,2003,2000])"
   ]
  },
  {
   "cell_type": "code",
   "execution_count": 122,
   "id": "1620222c",
   "metadata": {},
   "outputs": [
    {
     "data": {
      "text/html": [
       "<div>\n",
       "<style scoped>\n",
       "    .dataframe tbody tr th:only-of-type {\n",
       "        vertical-align: middle;\n",
       "    }\n",
       "\n",
       "    .dataframe tbody tr th {\n",
       "        vertical-align: top;\n",
       "    }\n",
       "\n",
       "    .dataframe thead th {\n",
       "        text-align: right;\n",
       "    }\n",
       "</style>\n",
       "<table border=\"1\" class=\"dataframe\">\n",
       "  <thead>\n",
       "    <tr style=\"text-align: right;\">\n",
       "      <th></th>\n",
       "      <th>Nara</th>\n",
       "      <th>Hiroshima</th>\n",
       "    </tr>\n",
       "  </thead>\n",
       "  <tbody>\n",
       "    <tr>\n",
       "      <th>2001</th>\n",
       "      <td>1.8</td>\n",
       "      <td>2.4</td>\n",
       "    </tr>\n",
       "    <tr>\n",
       "      <th>2002</th>\n",
       "      <td>3.6</td>\n",
       "      <td>2.9</td>\n",
       "    </tr>\n",
       "  </tbody>\n",
       "</table>\n",
       "</div>"
      ],
      "text/plain": [
       "      Nara  Hiroshima\n",
       "2001   1.8        2.4\n",
       "2002   3.6        2.9"
      ]
     },
     "execution_count": 122,
     "metadata": {},
     "output_type": "execute_result"
    }
   ],
   "source": [
    "# Dict of series are treated in much the same way:\n",
    "pdata={\"Nara\":frame3[\"Nara\"][:-1],\n",
    "        \"Hiroshima\":frame3[\"Hiroshima\"][:2]}\n",
    "pd.DataFrame(pdata)"
   ]
  },
  {
   "cell_type": "code",
   "execution_count": 123,
   "id": "b56dec0c",
   "metadata": {},
   "outputs": [
    {
     "data": {
      "text/html": [
       "<div>\n",
       "<style scoped>\n",
       "    .dataframe tbody tr th:only-of-type {\n",
       "        vertical-align: middle;\n",
       "    }\n",
       "\n",
       "    .dataframe tbody tr th {\n",
       "        vertical-align: top;\n",
       "    }\n",
       "\n",
       "    .dataframe thead th {\n",
       "        text-align: right;\n",
       "    }\n",
       "</style>\n",
       "<table border=\"1\" class=\"dataframe\">\n",
       "  <thead>\n",
       "    <tr style=\"text-align: right;\">\n",
       "      <th>state</th>\n",
       "      <th>Hiroshima</th>\n",
       "      <th>Nara</th>\n",
       "    </tr>\n",
       "    <tr>\n",
       "      <th>year</th>\n",
       "      <th></th>\n",
       "      <th></th>\n",
       "    </tr>\n",
       "  </thead>\n",
       "  <tbody>\n",
       "    <tr>\n",
       "      <th>2001</th>\n",
       "      <td>2.4</td>\n",
       "      <td>1.8</td>\n",
       "    </tr>\n",
       "    <tr>\n",
       "      <th>2002</th>\n",
       "      <td>2.9</td>\n",
       "      <td>3.6</td>\n",
       "    </tr>\n",
       "    <tr>\n",
       "      <th>2000</th>\n",
       "      <td>NaN</td>\n",
       "      <td>1.5</td>\n",
       "    </tr>\n",
       "  </tbody>\n",
       "</table>\n",
       "</div>"
      ],
      "text/plain": [
       "state  Hiroshima  Nara\n",
       "year                  \n",
       "2001         2.4   1.8\n",
       "2002         2.9   3.6\n",
       "2000         NaN   1.5"
      ]
     },
     "execution_count": 123,
     "metadata": {},
     "output_type": "execute_result"
    }
   ],
   "source": [
    "# if a dataframe index and column have their name attributes set,\n",
    "frame3.index.name=\"year\"; frame3.columns.name=\"state\"\n",
    "frame3"
   ]
  },
  {
   "cell_type": "code",
   "execution_count": 124,
   "id": "714512d0",
   "metadata": {},
   "outputs": [
    {
     "data": {
      "text/plain": [
       "array([[2000, 'osaka', 2700000, nan],\n",
       "       [2005, 'osaka', 2750000, -1.2],\n",
       "       [2010, 'osaka', 2800000, 2.3],\n",
       "       [2000, 'kyoto', 1500000, -5.7],\n",
       "       [2005, 'kyoto', 1550000, nan],\n",
       "       [2010, 'kyoto', 1600000, nan]], dtype=object)"
      ]
     },
     "execution_count": 124,
     "metadata": {},
     "output_type": "execute_result"
    }
   ],
   "source": [
    "# as with series the values attributes returns the data contained in the Dataframe as tow-dimensional array.\n",
    "frame3.values\n",
    "\n",
    "# if the dataframes's column have differnt dtypes, the dtypes values array will be chosen to accomodate all of the columns:\n",
    "frame2.values"
   ]
  },
  {
   "cell_type": "code",
   "execution_count": 125,
   "id": "05c47414",
   "metadata": {},
   "outputs": [
    {
     "data": {
      "text/plain": [
       "True"
      ]
     },
     "execution_count": 125,
     "metadata": {},
     "output_type": "execute_result"
    }
   ],
   "source": [
    "# Index objects: it is responsible for holding the axis labels and other metadata. Any array or other sequence of labels we use constructing a series and data frame is internally converted to index.\n",
    "\n",
    "obj=pd.Series(range(3), index=[\"a\",\"b\",\"c\"])\n",
    "index=obj.index\n",
    "index\n",
    "\n",
    "# index objects are immutable and cannot be modified by the user, which makes safer to share index objects among data structures.\n",
    "labels=pd.Index(np.arange(2))\n",
    "labels\n",
    "\n",
    "obj2=pd.Series([1.5,2.4],index=labels)\n",
    "obj2.index is labels"
   ]
  },
  {
   "cell_type": "code",
   "execution_count": 126,
   "id": "60839a5f",
   "metadata": {},
   "outputs": [
    {
     "data": {
      "text/plain": [
       "Index(['Nara', 'Nara', 'osaka'], dtype='object')"
      ]
     },
     "execution_count": 126,
     "metadata": {},
     "output_type": "execute_result"
    }
   ],
   "source": [
    "# index also behaves like fixed-size set: \n",
    "frame3\n",
    "frame3.columns\n",
    "\"Nara\" in frame3.columns\n",
    "\n",
    "# unlike python sets, a pandas index can contain duplicate labels.\n",
    "dup_lab=pd.Index([\"Nara\",\"Nara\",\"osaka\"])\n",
    "dup_lab\n",
    "# selection with duplicate labels will select all occurances of that label. "
   ]
  },
  {
   "cell_type": "markdown",
   "id": "9be5fb41",
   "metadata": {},
   "source": [
    "# some index methods and Properties\n",
    "1. append: concatenate the additional objects\n",
    "2. difference: compute set difference as an index\n",
    "3. interesection: compute set intersection\n",
    "4. union: compute set union\n",
    "5. isin: compute boolean array \n",
    "6. delete: compute new index element at index i deleted. \n",
    "7. drop:compute new index by deleting passed values."
   ]
  },
  {
   "cell_type": "code",
   "execution_count": 127,
   "id": "0db4d679",
   "metadata": {},
   "outputs": [
    {
     "data": {
      "text/plain": [
       "a    4.0\n",
       "b    2.0\n",
       "c    3.0\n",
       "e    NaN\n",
       "d    1.0\n",
       "dtype: float64"
      ]
     },
     "execution_count": 127,
     "metadata": {},
     "output_type": "execute_result"
    }
   ],
   "source": [
    "# Reindexing: method on pandas object is reindex., which is to create a new object with the data conformed to a new index. \n",
    "\n",
    "obj=pd.Series([1,2,3,4],index=[\"d\",\"b\",\"c\",\"a\"])\n",
    "# calling reindex in the series rearranges the index, introducing missing values.\n",
    "obj2=obj.reindex([\"a\",\"b\",\"c\",\"e\",\"d\"])\n",
    "obj2"
   ]
  },
  {
   "cell_type": "code",
   "execution_count": 128,
   "id": "25e4ff94",
   "metadata": {},
   "outputs": [
    {
     "data": {
      "text/plain": [
       "0    yellow\n",
       "1    yellow\n",
       "2    orange\n",
       "3    orange\n",
       "4      blue\n",
       "5      blue\n",
       "dtype: object"
      ]
     },
     "execution_count": 128,
     "metadata": {},
     "output_type": "execute_result"
    }
   ],
   "source": [
    "# for ordered data like time series, it is good to do some filling of values when reindexing. The method option allows to do that, such as ffill：forward fills the values.\n",
    "\n",
    "obj3=pd.Series([\"yellow\",\"orange\",\"blue\"],index=[0,2,4])\n",
    "obj3.reindex(range(6),method=\"ffill\")\n"
   ]
  },
  {
   "cell_type": "code",
   "execution_count": 129,
   "id": "2bc51bcb",
   "metadata": {},
   "outputs": [
    {
     "data": {
      "text/html": [
       "<div>\n",
       "<style scoped>\n",
       "    .dataframe tbody tr th:only-of-type {\n",
       "        vertical-align: middle;\n",
       "    }\n",
       "\n",
       "    .dataframe tbody tr th {\n",
       "        vertical-align: top;\n",
       "    }\n",
       "\n",
       "    .dataframe thead th {\n",
       "        text-align: right;\n",
       "    }\n",
       "</style>\n",
       "<table border=\"1\" class=\"dataframe\">\n",
       "  <thead>\n",
       "    <tr style=\"text-align: right;\">\n",
       "      <th></th>\n",
       "      <th>osaka</th>\n",
       "      <th>amagasaki</th>\n",
       "      <th>kobe</th>\n",
       "    </tr>\n",
       "  </thead>\n",
       "  <tbody>\n",
       "    <tr>\n",
       "      <th>b</th>\n",
       "      <td>0</td>\n",
       "      <td>2</td>\n",
       "      <td>NaN</td>\n",
       "    </tr>\n",
       "    <tr>\n",
       "      <th>d</th>\n",
       "      <td>3</td>\n",
       "      <td>5</td>\n",
       "      <td>NaN</td>\n",
       "    </tr>\n",
       "    <tr>\n",
       "      <th>c</th>\n",
       "      <td>6</td>\n",
       "      <td>8</td>\n",
       "      <td>NaN</td>\n",
       "    </tr>\n",
       "  </tbody>\n",
       "</table>\n",
       "</div>"
      ],
      "text/plain": [
       "   osaka  amagasaki  kobe\n",
       "b      0          2   NaN\n",
       "d      3          5   NaN\n",
       "c      6          8   NaN"
      ]
     },
     "execution_count": 129,
     "metadata": {},
     "output_type": "execute_result"
    }
   ],
   "source": [
    "# with data frame reindex can alter either (row) index,columns or both. \n",
    "frame=pd.DataFrame(np.arange(9).reshape((3,3)),index=[\"b\",\"d\",\"c\"],columns=[\"osaka\",\"kyoto\",\"amagasaki\"])\n",
    "frame.reindex([\"b\",\"c\",\"d\",\"e\"]) # so e gives NaN as e wasnt present before. \n",
    "\n",
    "\n",
    "# columns can be reindexed with columns keyword:\n",
    "city=[\"osaka\",\"amagasaki\",\"kobe\"]\n",
    "frame.reindex(columns=city)"
   ]
  },
  {
   "cell_type": "code",
   "execution_count": 130,
   "id": "ec3864be",
   "metadata": {},
   "outputs": [
    {
     "data": {
      "text/html": [
       "<div>\n",
       "<style scoped>\n",
       "    .dataframe tbody tr th:only-of-type {\n",
       "        vertical-align: middle;\n",
       "    }\n",
       "\n",
       "    .dataframe tbody tr th {\n",
       "        vertical-align: top;\n",
       "    }\n",
       "\n",
       "    .dataframe thead th {\n",
       "        text-align: right;\n",
       "    }\n",
       "</style>\n",
       "<table border=\"1\" class=\"dataframe\">\n",
       "  <thead>\n",
       "    <tr style=\"text-align: right;\">\n",
       "      <th></th>\n",
       "      <th>osaka</th>\n",
       "      <th>amagasaki</th>\n",
       "    </tr>\n",
       "  </thead>\n",
       "  <tbody>\n",
       "    <tr>\n",
       "      <th>b</th>\n",
       "      <td>0</td>\n",
       "      <td>2</td>\n",
       "    </tr>\n",
       "    <tr>\n",
       "      <th>c</th>\n",
       "      <td>6</td>\n",
       "      <td>8</td>\n",
       "    </tr>\n",
       "    <tr>\n",
       "      <th>d</th>\n",
       "      <td>3</td>\n",
       "      <td>5</td>\n",
       "    </tr>\n",
       "  </tbody>\n",
       "</table>\n",
       "</div>"
      ],
      "text/plain": [
       "   osaka  amagasaki\n",
       "b      0          2\n",
       "c      6          8\n",
       "d      3          5"
      ]
     },
     "execution_count": 130,
     "metadata": {},
     "output_type": "execute_result"
    }
   ],
   "source": [
    "# reindex by label-indexing with loc:\n",
    "import pandas as pd\n",
    "import numpy as np\n",
    "\n",
    "frame = pd.DataFrame(np.arange(9).reshape((3, 3)),\n",
    "                    index=[\"b\", \"d\", \"c\"],\n",
    "                    columns=[\"osaka\", \"kyoto\", \"amagasaki\"])\n",
    "\n",
    "city = [\"osaka\", \"amagasaki\", \"kobe\"]\n",
    "\n",
    "# Filter out columns not in DataFrame\n",
    "valid_city = [col for col in city if col in frame.columns]\n",
    "\n",
    "result = frame.loc[[\"b\", \"c\", \"d\"], valid_city]\n",
    "result\n",
    "\n",
    "#So, .loc is preferred whenever the row/column labels convey meaningful information, enabling clearer and more maintainable code"
   ]
  },
  {
   "cell_type": "markdown",
   "id": "46e9c5a3",
   "metadata": {},
   "source": [
    "# Note: reindex function arguments\n",
    "1. index: new sequence to use as index.\n",
    "2. method: fill method (ffill)\n",
    "3. fill_value: substitute value to use when introducing missig data by reindexing. "
   ]
  },
  {
   "cell_type": "code",
   "execution_count": 131,
   "id": "3d5c8810",
   "metadata": {},
   "outputs": [
    {
     "data": {
      "text/plain": [
       "a    0.0\n",
       "d    3.0\n",
       "e    4.0\n",
       "dtype: float64"
      ]
     },
     "execution_count": 131,
     "metadata": {},
     "output_type": "execute_result"
    }
   ],
   "source": [
    "# Dropping entries from an axis.: easy when we already have an index array or list without those entries.  \n",
    "obj=pd.Series(np.arange(5.),index=[\"a\",\"b\",\"c\",\"d\",\"e\"])\n",
    "new_obj=obj.drop(\"a\")\n",
    "obj.drop([\"b\",\"c\"])"
   ]
  },
  {
   "cell_type": "code",
   "execution_count": 132,
   "id": "119495ca",
   "metadata": {},
   "outputs": [
    {
     "data": {
      "text/html": [
       "<div>\n",
       "<style scoped>\n",
       "    .dataframe tbody tr th:only-of-type {\n",
       "        vertical-align: middle;\n",
       "    }\n",
       "\n",
       "    .dataframe tbody tr th {\n",
       "        vertical-align: top;\n",
       "    }\n",
       "\n",
       "    .dataframe thead th {\n",
       "        text-align: right;\n",
       "    }\n",
       "</style>\n",
       "<table border=\"1\" class=\"dataframe\">\n",
       "  <thead>\n",
       "    <tr style=\"text-align: right;\">\n",
       "      <th></th>\n",
       "      <th>1</th>\n",
       "      <th>3</th>\n",
       "      <th>4</th>\n",
       "    </tr>\n",
       "  </thead>\n",
       "  <tbody>\n",
       "    <tr>\n",
       "      <th>osaka</th>\n",
       "      <td>0</td>\n",
       "      <td>2</td>\n",
       "      <td>3</td>\n",
       "    </tr>\n",
       "    <tr>\n",
       "      <th>kyoto</th>\n",
       "      <td>4</td>\n",
       "      <td>6</td>\n",
       "      <td>7</td>\n",
       "    </tr>\n",
       "    <tr>\n",
       "      <th>shiga</th>\n",
       "      <td>8</td>\n",
       "      <td>10</td>\n",
       "      <td>11</td>\n",
       "    </tr>\n",
       "    <tr>\n",
       "      <th>Nara</th>\n",
       "      <td>12</td>\n",
       "      <td>14</td>\n",
       "      <td>15</td>\n",
       "    </tr>\n",
       "  </tbody>\n",
       "</table>\n",
       "</div>"
      ],
      "text/plain": [
       "        1   3   4\n",
       "osaka   0   2   3\n",
       "kyoto   4   6   7\n",
       "shiga   8  10  11\n",
       "Nara   12  14  15"
      ]
     },
     "execution_count": 132,
     "metadata": {},
     "output_type": "execute_result"
    }
   ],
   "source": [
    "# with data frame index values can be deleted from either axis. \n",
    "\n",
    "data=pd.DataFrame(np.arange(16).reshape(4,4),\n",
    "                index=[\"osaka\",\"kyoto\",\"shiga\",\"Nara\"],\n",
    "                columns=[1,2,3,4])\n",
    "data.drop([\"shiga\",\"Nara\"]) # it drops the values from row label.\n",
    "\n",
    "#dropping column values fom the column passing axis=1 or axis=\"columns\":\n",
    "data.drop(2,axis=1) #axis 1 refers to column in 2D array. "
   ]
  },
  {
   "cell_type": "code",
   "execution_count": 133,
   "id": "de48c742",
   "metadata": {},
   "outputs": [
    {
     "data": {
      "text/html": [
       "<div>\n",
       "<style scoped>\n",
       "    .dataframe tbody tr th:only-of-type {\n",
       "        vertical-align: middle;\n",
       "    }\n",
       "\n",
       "    .dataframe tbody tr th {\n",
       "        vertical-align: top;\n",
       "    }\n",
       "\n",
       "    .dataframe thead th {\n",
       "        text-align: right;\n",
       "    }\n",
       "</style>\n",
       "<table border=\"1\" class=\"dataframe\">\n",
       "  <thead>\n",
       "    <tr style=\"text-align: right;\">\n",
       "      <th></th>\n",
       "      <th>1</th>\n",
       "      <th>4</th>\n",
       "    </tr>\n",
       "  </thead>\n",
       "  <tbody>\n",
       "    <tr>\n",
       "      <th>osaka</th>\n",
       "      <td>0</td>\n",
       "      <td>3</td>\n",
       "    </tr>\n",
       "    <tr>\n",
       "      <th>kyoto</th>\n",
       "      <td>4</td>\n",
       "      <td>7</td>\n",
       "    </tr>\n",
       "    <tr>\n",
       "      <th>shiga</th>\n",
       "      <td>8</td>\n",
       "      <td>11</td>\n",
       "    </tr>\n",
       "    <tr>\n",
       "      <th>Nara</th>\n",
       "      <td>12</td>\n",
       "      <td>15</td>\n",
       "    </tr>\n",
       "  </tbody>\n",
       "</table>\n",
       "</div>"
      ],
      "text/plain": [
       "        1   4\n",
       "osaka   0   3\n",
       "kyoto   4   7\n",
       "shiga   8  11\n",
       "Nara   12  15"
      ]
     },
     "execution_count": 133,
     "metadata": {},
     "output_type": "execute_result"
    }
   ],
   "source": [
    "data.drop([2,3],axis=\"columns\")"
   ]
  },
  {
   "cell_type": "code",
   "execution_count": 134,
   "id": "aa3d895d",
   "metadata": {},
   "outputs": [
    {
     "data": {
      "text/plain": [
       "a    0.0\n",
       "b    1.0\n",
       "d    3.0\n",
       "e    4.0\n",
       "dtype: float64"
      ]
     },
     "execution_count": 134,
     "metadata": {},
     "output_type": "execute_result"
    }
   ],
   "source": [
    "# many functions like drop which modifies the shape and size of a series or DataFrame can manipulate an object in place without returning a new object.\n",
    "obj.drop(\"c\",inplace=True)  #inplace also modifies directly, alters Dataframe permanently and returns None after the operations.\n",
    "obj"
   ]
  },
  {
   "cell_type": "code",
   "execution_count": 135,
   "id": "dd3762d6",
   "metadata": {},
   "outputs": [
    {
     "name": "stderr",
     "output_type": "stream",
     "text": [
      "C:\\Users\\thapa.pra\\AppData\\Local\\Temp\\ipykernel_16700\\239062355.py:5: FutureWarning: Series.__getitem__ treating keys as positions is deprecated. In a future version, integer keys will always be treated as labels (consistent with DataFrame behavior). To access a value by position, use `ser.iloc[pos]`\n",
      "  obj[1]\n",
      "C:\\Users\\thapa.pra\\AppData\\Local\\Temp\\ipykernel_16700\\239062355.py:9: FutureWarning: Series.__getitem__ treating keys as positions is deprecated. In a future version, integer keys will always be treated as labels (consistent with DataFrame behavior). To access a value by position, use `ser.iloc[pos]`\n",
      "  obj[[1,3]]\n"
     ]
    },
    {
     "data": {
      "text/plain": [
       "a    0.0\n",
       "b    1.0\n",
       "dtype: float64"
      ]
     },
     "execution_count": 135,
     "metadata": {},
     "output_type": "execute_result"
    }
   ],
   "source": [
    "# Indexing, Selection and Filtering: Pandas Series is more flexible than a NumPy array because it allows indexing using both explicit labels (like names or dates) and implicit integer positions. \n",
    "obj=pd.Series(np.arange(4.),index=[\"a\",\"b\",\"c\",\"d\"])\n",
    "# so it can be accessed from\n",
    "obj[\"b\"]\n",
    "obj[1]\n",
    "\n",
    "obj[2:4]\n",
    "obj[[\"b\",\"c\",\"a\"]]\n",
    "obj[[1,3]]\n",
    "obj[obj<2]"
   ]
  },
  {
   "cell_type": "code",
   "execution_count": 136,
   "id": "3a220066",
   "metadata": {},
   "outputs": [
    {
     "data": {
      "text/plain": [
       "b    1.0\n",
       "c    2.0\n",
       "dtype: float64"
      ]
     },
     "execution_count": 136,
     "metadata": {},
     "output_type": "execute_result"
    }
   ],
   "source": [
    "# slicing with labels behaves differently than normal python slicing in that the endpoint.\n",
    "obj[\"b\":\"c\"]"
   ]
  },
  {
   "cell_type": "markdown",
   "id": "0f5670a6",
   "metadata": {},
   "source": [
    " Python slicing of py_list[1:3] excludes the last item. In contrast, the Pandas slice of s_non_sequential['c':'h'] includes both the starting and ending label, 'c' and 'h'."
   ]
  },
  {
   "cell_type": "code",
   "execution_count": 137,
   "id": "b15249af",
   "metadata": {},
   "outputs": [
    {
     "data": {
      "text/plain": [
       "a    0.0\n",
       "b    6.0\n",
       "c    6.0\n",
       "d    3.0\n",
       "dtype: float64"
      ]
     },
     "execution_count": 137,
     "metadata": {},
     "output_type": "execute_result"
    }
   ],
   "source": [
    "# methods modifies the corresponding section of Series:\n",
    "obj[\"b\":\"c\"]=6\n",
    "obj"
   ]
  },
  {
   "cell_type": "code",
   "execution_count": 138,
   "id": "b41afee3",
   "metadata": {},
   "outputs": [
    {
     "data": {
      "text/html": [
       "<div>\n",
       "<style scoped>\n",
       "    .dataframe tbody tr th:only-of-type {\n",
       "        vertical-align: middle;\n",
       "    }\n",
       "\n",
       "    .dataframe tbody tr th {\n",
       "        vertical-align: top;\n",
       "    }\n",
       "\n",
       "    .dataframe thead th {\n",
       "        text-align: right;\n",
       "    }\n",
       "</style>\n",
       "<table border=\"1\" class=\"dataframe\">\n",
       "  <thead>\n",
       "    <tr style=\"text-align: right;\">\n",
       "      <th></th>\n",
       "      <th>1</th>\n",
       "      <th>2</th>\n",
       "      <th>3</th>\n",
       "    </tr>\n",
       "  </thead>\n",
       "  <tbody>\n",
       "    <tr>\n",
       "      <th>osaka</th>\n",
       "      <td>0</td>\n",
       "      <td>0</td>\n",
       "      <td>0</td>\n",
       "    </tr>\n",
       "    <tr>\n",
       "      <th>chiba</th>\n",
       "      <td>3</td>\n",
       "      <td>4</td>\n",
       "      <td>5</td>\n",
       "    </tr>\n",
       "    <tr>\n",
       "      <th>Kyoto</th>\n",
       "      <td>6</td>\n",
       "      <td>7</td>\n",
       "      <td>8</td>\n",
       "    </tr>\n",
       "  </tbody>\n",
       "</table>\n",
       "</div>"
      ],
      "text/plain": [
       "       1  2  3\n",
       "osaka  0  0  0\n",
       "chiba  3  4  5\n",
       "Kyoto  6  7  8"
      ]
     },
     "execution_count": 138,
     "metadata": {},
     "output_type": "execute_result"
    }
   ],
   "source": [
    "# Indexing in DataFrame is for retrieving one or more columns either with a single value:\n",
    "\n",
    "data=pd.DataFrame(np.arange(9).reshape(3,3),index=[\"osaka\",\"chiba\",\"Kyoto\"],columns=[1,2,3])\n",
    "data[2] #retrieving column 2.\n",
    "data[[2,3]]\n",
    "data[:2] # for the first　two rows. \n",
    "data[data[3]>5]\n",
    "data<3\n",
    "data[data[3]<5]=0\n",
    "data"
   ]
  },
  {
   "cell_type": "code",
   "execution_count": 139,
   "id": "17b6e6e0",
   "metadata": {},
   "outputs": [
    {
     "data": {
      "text/html": [
       "<div>\n",
       "<style scoped>\n",
       "    .dataframe tbody tr th:only-of-type {\n",
       "        vertical-align: middle;\n",
       "    }\n",
       "\n",
       "    .dataframe tbody tr th {\n",
       "        vertical-align: top;\n",
       "    }\n",
       "\n",
       "    .dataframe thead th {\n",
       "        text-align: right;\n",
       "    }\n",
       "</style>\n",
       "<table border=\"1\" class=\"dataframe\">\n",
       "  <thead>\n",
       "    <tr style=\"text-align: right;\">\n",
       "      <th></th>\n",
       "      <th>1</th>\n",
       "      <th>2</th>\n",
       "      <th>3</th>\n",
       "    </tr>\n",
       "  </thead>\n",
       "  <tbody>\n",
       "    <tr>\n",
       "      <th>chiba</th>\n",
       "      <td>3</td>\n",
       "      <td>4</td>\n",
       "      <td>5</td>\n",
       "    </tr>\n",
       "    <tr>\n",
       "      <th>Kyoto</th>\n",
       "      <td>6</td>\n",
       "      <td>7</td>\n",
       "      <td>8</td>\n",
       "    </tr>\n",
       "  </tbody>\n",
       "</table>\n",
       "</div>"
      ],
      "text/plain": [
       "       1  2  3\n",
       "chiba  3  4  5\n",
       "Kyoto  6  7  8"
      ]
     },
     "execution_count": 139,
     "metadata": {},
     "output_type": "execute_result"
    }
   ],
   "source": [
    "# selection with loc and Iloc: allows to select subset of the rows and columns from the datafRAME WITH Numpy-like notation using eiher axis lables (loc) or itegers (iloc).\n",
    "\n",
    "data.loc[\"chiba\",[2,3]] # Selects row labeled 'chiba' and columns 'pop' and 'area' by label\n",
    "\n",
    "# similar operation by using iloc:\n",
    "data.iloc[1,[1,0]] #Selects the second row and the second and first columns (by integer index)\n",
    "\n",
    "data.iloc[[1,2],[0,1,2]] # ]\tSelects rows at indices 1 and 2, and columns at indices 0, 1, 2."
   ]
  },
  {
   "cell_type": "code",
   "execution_count": 140,
   "id": "2aaace0b",
   "metadata": {},
   "outputs": [
    {
     "data": {
      "text/plain": [
       "np.int64(4)"
      ]
     },
     "execution_count": 140,
     "metadata": {},
     "output_type": "execute_result"
    }
   ],
   "source": [
    "# both indexing function work with slices in addition to single labels or lists of labels:\n",
    "data.loc[\"chiba\",2]"
   ]
  },
  {
   "cell_type": "markdown",
   "id": "98e60d00",
   "metadata": {},
   "source": [
    "# Indexing option with DataFrame.\n",
    "df[val]\n",
    "df.loc[val]\n",
    "df.loc[val1,val2]\n",
    "df.iloc[where] \n",
    "df.iloc[:,where]\n",
    "df.iloc[where_i,where_j]\n",
    "reindex method"
   ]
  },
  {
   "cell_type": "code",
   "execution_count": 141,
   "id": "b2219554",
   "metadata": {},
   "outputs": [
    {
     "data": {
      "text/plain": [
       "0    0.0\n",
       "1    1.0\n",
       "2    2.0\n",
       "3    3.0\n",
       "4    4.0\n",
       "5    5.0\n",
       "dtype: float64"
      ]
     },
     "execution_count": 141,
     "metadata": {},
     "output_type": "execute_result"
    }
   ],
   "source": [
    "# Integer Indexes: some differences with indexing semantics on built in python data structure like list and tuple. \n",
    "ser=pd.Series(np.arange(6.0))\n",
    "ser\n",
    "#ser[-1] returns error. here we have index from 0 to 5\n"
   ]
  },
  {
   "cell_type": "code",
   "execution_count": 142,
   "id": "5327d1d5",
   "metadata": {},
   "outputs": [
    {
     "name": "stderr",
     "output_type": "stream",
     "text": [
      "C:\\Users\\thapa.pra\\AppData\\Local\\Temp\\ipykernel_16700\\1806555169.py:2: FutureWarning: Series.__getitem__ treating keys as positions is deprecated. In a future version, integer keys will always be treated as labels (consistent with DataFrame behavior). To access a value by position, use `ser.iloc[pos]`\n",
      "  ser2[-1]\n"
     ]
    },
    {
     "data": {
      "text/plain": [
       "np.float64(3.0)"
      ]
     },
     "execution_count": 142,
     "metadata": {},
     "output_type": "execute_result"
    }
   ],
   "source": [
    "ser2=pd.Series(np.arange(4.),index=[\"a\",\"b\",\"c\",\"d\"])\n",
    "ser2[-1]\n",
    "\n",
    "# in non integer index, there is no potential for ambiguity.    "
   ]
  },
  {
   "cell_type": "markdown",
   "id": "e12a8708",
   "metadata": {},
   "source": [
    "If the index isn’t a number, Python doesn’t have to guess whether you mean a position number or a label—it’s clearly a label. But with integer indexing, sometimes the number could be both a label in the index AND a position number, which can cause confusion."
   ]
  },
  {
   "cell_type": "code",
   "execution_count": null,
   "id": "dcdea470",
   "metadata": {},
   "outputs": [
    {
     "data": {
      "text/plain": [
       "0    0.0\n",
       "1    1.0\n",
       "dtype: float64"
      ]
     },
     "execution_count": 143,
     "metadata": {},
     "output_type": "execute_result"
    }
   ],
   "source": [
    "# use loc (for labels) and iloc(for integers):\n",
    "ser.loc[:1] # select all the index up to including the label 1.\n",
    "ser.iloc[:2]"
   ]
  },
  {
   "cell_type": "code",
   "execution_count": null,
   "id": "470addde",
   "metadata": {},
   "outputs": [
    {
     "name": "stdout",
     "output_type": "stream",
     "text": [
      "30\n",
      "5    10\n",
      "dtype: int64\n"
     ]
    }
   ],
   "source": [
    "ser = pd.Series([10, 20, 30], index=[5, 10, 15])\n",
    "print(ser.loc[15])   # Access by label (index value) -> 20\n",
    "print(ser.iloc[:1])   # Access by position (second element) -> 20\n",
    "\n",
    "# Use .iloc for position-based access regardless of index type.\n",
    "# Use .loc for label-based access using the actual index values."
   ]
  },
  {
   "cell_type": "code",
   "execution_count": null,
   "id": "00bbb711",
   "metadata": {},
   "outputs": [
    {
     "data": {
      "text/plain": [
       "a    5.0\n",
       "b    NaN\n",
       "c    3.0\n",
       "d    4.0\n",
       "f    NaN\n",
       "g    NaN\n",
       "dtype: float64"
      ]
     },
     "execution_count": 146,
     "metadata": {},
     "output_type": "execute_result"
    }
   ],
   "source": [
    "# Airthmetic and data alignment: when adding objects, if any index pairs are not same, the respective index in result will be union of index pairs.\n",
    "s1=pd.Series([2,3,4,5],index=[\"a\",\"b\",\"c\",\"d\"])\n",
    "s2=pd.Series([3,-1,-1,0.2,0.5],index=[\"a\",\"c\",\"d\",\"f\",\"g\"])\n",
    "s1+s2\n",
    "# this internal alignment introduces missing values in the label locations that dont overlap. "
   ]
  },
  {
   "cell_type": "code",
   "execution_count": null,
   "id": "2e2d1d13",
   "metadata": {},
   "outputs": [
    {
     "data": {
      "text/html": [
       "<div>\n",
       "<style scoped>\n",
       "    .dataframe tbody tr th:only-of-type {\n",
       "        vertical-align: middle;\n",
       "    }\n",
       "\n",
       "    .dataframe tbody tr th {\n",
       "        vertical-align: top;\n",
       "    }\n",
       "\n",
       "    .dataframe thead th {\n",
       "        text-align: right;\n",
       "    }\n",
       "</style>\n",
       "<table border=\"1\" class=\"dataframe\">\n",
       "  <thead>\n",
       "    <tr style=\"text-align: right;\">\n",
       "      <th></th>\n",
       "      <th>a</th>\n",
       "      <th>b</th>\n",
       "      <th>c</th>\n",
       "      <th>e</th>\n",
       "    </tr>\n",
       "  </thead>\n",
       "  <tbody>\n",
       "    <tr>\n",
       "      <th>Kyoto</th>\n",
       "      <td>NaN</td>\n",
       "      <td>13.0</td>\n",
       "      <td>15.0</td>\n",
       "      <td>NaN</td>\n",
       "    </tr>\n",
       "    <tr>\n",
       "      <th>hyogo</th>\n",
       "      <td>NaN</td>\n",
       "      <td>NaN</td>\n",
       "      <td>NaN</td>\n",
       "      <td>NaN</td>\n",
       "    </tr>\n",
       "    <tr>\n",
       "      <th>nara</th>\n",
       "      <td>NaN</td>\n",
       "      <td>NaN</td>\n",
       "      <td>NaN</td>\n",
       "      <td>NaN</td>\n",
       "    </tr>\n",
       "    <tr>\n",
       "      <th>osaka</th>\n",
       "      <td>NaN</td>\n",
       "      <td>4.0</td>\n",
       "      <td>6.0</td>\n",
       "      <td>NaN</td>\n",
       "    </tr>\n",
       "    <tr>\n",
       "      <th>shiga</th>\n",
       "      <td>NaN</td>\n",
       "      <td>NaN</td>\n",
       "      <td>NaN</td>\n",
       "      <td>NaN</td>\n",
       "    </tr>\n",
       "  </tbody>\n",
       "</table>\n",
       "</div>"
      ],
      "text/plain": [
       "        a     b     c   e\n",
       "Kyoto NaN  13.0  15.0 NaN\n",
       "hyogo NaN   NaN   NaN NaN\n",
       "nara  NaN   NaN   NaN NaN\n",
       "osaka NaN   4.0   6.0 NaN\n",
       "shiga NaN   NaN   NaN NaN"
      ]
     },
     "execution_count": 152,
     "metadata": {},
     "output_type": "execute_result"
    }
   ],
   "source": [
    "# In DataFrame, alignment is performed on both rows and columns:\n",
    "data1=pd.DataFrame(np.arange(9.).reshape((3,3)),columns=list(\"abc\"),\n",
    "                   index=[\"osaka\",\"nara\",\"Kyoto\"])\n",
    "data2= pd.DataFrame(np.arange(12.).reshape((4,3)),columns=list(\"bce\"),\n",
    "                    index=[\"hyogo\",\"osaka\",\"Kyoto\",\"shiga\"])\n",
    "data1+data2\n",
    "\n",
    "# indexes(rows) and column are aligned by their labels,not positions. \n",
    "# values get added when label matches.\n",
    "# NaN where they dont. \n",
    "# since a and e columns are not found in both DataFrame objects, they appear as missing. "
   ]
  },
  {
   "cell_type": "code",
   "execution_count": 155,
   "id": "127bf816",
   "metadata": {},
   "outputs": [
    {
     "data": {
      "text/html": [
       "<div>\n",
       "<style scoped>\n",
       "    .dataframe tbody tr th:only-of-type {\n",
       "        vertical-align: middle;\n",
       "    }\n",
       "\n",
       "    .dataframe tbody tr th {\n",
       "        vertical-align: top;\n",
       "    }\n",
       "\n",
       "    .dataframe thead th {\n",
       "        text-align: right;\n",
       "    }\n",
       "</style>\n",
       "<table border=\"1\" class=\"dataframe\">\n",
       "  <thead>\n",
       "    <tr style=\"text-align: right;\">\n",
       "      <th></th>\n",
       "      <th>A</th>\n",
       "      <th>B</th>\n",
       "    </tr>\n",
       "  </thead>\n",
       "  <tbody>\n",
       "    <tr>\n",
       "      <th>0</th>\n",
       "      <td>NaN</td>\n",
       "      <td>NaN</td>\n",
       "    </tr>\n",
       "    <tr>\n",
       "      <th>1</th>\n",
       "      <td>NaN</td>\n",
       "      <td>NaN</td>\n",
       "    </tr>\n",
       "  </tbody>\n",
       "</table>\n",
       "</div>"
      ],
      "text/plain": [
       "    A   B\n",
       "0 NaN NaN\n",
       "1 NaN NaN"
      ]
     },
     "execution_count": 155,
     "metadata": {},
     "output_type": "execute_result"
    }
   ],
   "source": [
    "# if DataFrame objects without columns or row labels in commom, then the result will contain all nulls:\n",
    "\n",
    "df1=pd.DataFrame({\"A\":[1,2]})\n",
    "df2=pd.DataFrame({\"B\":[3,4]})\n",
    "df1-df2"
   ]
  },
  {
   "cell_type": "code",
   "execution_count": 165,
   "id": "7d3f5143",
   "metadata": {},
   "outputs": [
    {
     "data": {
      "text/html": [
       "<div>\n",
       "<style scoped>\n",
       "    .dataframe tbody tr th:only-of-type {\n",
       "        vertical-align: middle;\n",
       "    }\n",
       "\n",
       "    .dataframe tbody tr th {\n",
       "        vertical-align: top;\n",
       "    }\n",
       "\n",
       "    .dataframe thead th {\n",
       "        text-align: right;\n",
       "    }\n",
       "</style>\n",
       "<table border=\"1\" class=\"dataframe\">\n",
       "  <thead>\n",
       "    <tr style=\"text-align: right;\">\n",
       "      <th></th>\n",
       "      <th>a</th>\n",
       "      <th>b</th>\n",
       "      <th>c</th>\n",
       "      <th>d</th>\n",
       "      <th>e</th>\n",
       "    </tr>\n",
       "  </thead>\n",
       "  <tbody>\n",
       "    <tr>\n",
       "      <th>0</th>\n",
       "      <td>0.0</td>\n",
       "      <td>1.0</td>\n",
       "      <td>2.0</td>\n",
       "      <td>3.0</td>\n",
       "      <td>0</td>\n",
       "    </tr>\n",
       "    <tr>\n",
       "      <th>1</th>\n",
       "      <td>4.0</td>\n",
       "      <td>5.0</td>\n",
       "      <td>6.0</td>\n",
       "      <td>7.0</td>\n",
       "      <td>0</td>\n",
       "    </tr>\n",
       "    <tr>\n",
       "      <th>2</th>\n",
       "      <td>8.0</td>\n",
       "      <td>9.0</td>\n",
       "      <td>10.0</td>\n",
       "      <td>11.0</td>\n",
       "      <td>0</td>\n",
       "    </tr>\n",
       "  </tbody>\n",
       "</table>\n",
       "</div>"
      ],
      "text/plain": [
       "     a    b     c     d  e\n",
       "0  0.0  1.0   2.0   3.0  0\n",
       "1  4.0  5.0   6.0   7.0  0\n",
       "2  8.0  9.0  10.0  11.0  0"
      ]
     },
     "execution_count": 165,
     "metadata": {},
     "output_type": "execute_result"
    }
   ],
   "source": [
    "# Airthmetic methods with fill values: when we want to fill value, in axis label found in onr and not in another.\n",
    "\n",
    "df1=pd.DataFrame(np.arange(12.).reshape((3,4)),\n",
    "                 columns=list(\"abcd\"))\n",
    "df2=pd.DataFrame(np.arange(20.0).reshape((4,5)),\n",
    "                 columns=list(\"abcde\"))\n",
    "df2.loc[1,\"b\"]=np.nan # sets the value in DataFrame cell aat row 1,column \"b\" to missing(NaN).\n",
    "# using add method on df1, pass df2 and an argument to fill_value:\n",
    "df1.add(df2,fill_value=0)\n",
    "\n",
    "# when reindexing series or Dataframe, we can also apecify a different fill value:\n",
    "df1.reindex(columns=df2.columns,fill_value=0)"
   ]
  },
  {
   "cell_type": "markdown",
   "id": "d797c92c",
   "metadata": {},
   "source": [
    "# Flexible airthmetic methods.\n",
    "1. add, radd : method for +\n",
    "2. sub, rsub : method for -\n",
    "3. div, rdiv : method for divison(/)\n",
    "4. mul,rmul : method for multiplication (*)\n",
    "5. floordiv, rfloordiv : method for floor divison (//)\n",
    "6. pow, rpow : method for exponentiaton (**)"
   ]
  },
  {
   "cell_type": "code",
   "execution_count": null,
   "id": "4171af9d",
   "metadata": {},
   "outputs": [
    {
     "data": {
      "text/plain": [
       "array([[-4., -4., -4., -4.],\n",
       "       [ 0.,  0.,  0.,  0.],\n",
       "       [ 4.,  4.,  4.,  4.]])"
      ]
     },
     "execution_count": 167,
     "metadata": {},
     "output_type": "execute_result"
    }
   ],
   "source": [
    "# operation between DataFrame and Series: \n",
    "\n",
    "arr=np.arange(12.).reshape((3,4))\n",
    "arr- arr[1]\n",
    "# this is referred to as broadcasting. "
   ]
  },
  {
   "cell_type": "code",
   "execution_count": 177,
   "id": "a2908173",
   "metadata": {},
   "outputs": [
    {
     "data": {
      "text/html": [
       "<div>\n",
       "<style scoped>\n",
       "    .dataframe tbody tr th:only-of-type {\n",
       "        vertical-align: middle;\n",
       "    }\n",
       "\n",
       "    .dataframe tbody tr th {\n",
       "        vertical-align: top;\n",
       "    }\n",
       "\n",
       "    .dataframe thead th {\n",
       "        text-align: right;\n",
       "    }\n",
       "</style>\n",
       "<table border=\"1\" class=\"dataframe\">\n",
       "  <thead>\n",
       "    <tr style=\"text-align: right;\">\n",
       "      <th></th>\n",
       "      <th>b</th>\n",
       "      <th>d</th>\n",
       "      <th>e</th>\n",
       "    </tr>\n",
       "  </thead>\n",
       "  <tbody>\n",
       "    <tr>\n",
       "      <th>osaka</th>\n",
       "      <td>-1.0</td>\n",
       "      <td>0.0</td>\n",
       "      <td>1.0</td>\n",
       "    </tr>\n",
       "    <tr>\n",
       "      <th>kyoto</th>\n",
       "      <td>-1.0</td>\n",
       "      <td>0.0</td>\n",
       "      <td>1.0</td>\n",
       "    </tr>\n",
       "    <tr>\n",
       "      <th>Nara</th>\n",
       "      <td>-1.0</td>\n",
       "      <td>0.0</td>\n",
       "      <td>1.0</td>\n",
       "    </tr>\n",
       "    <tr>\n",
       "      <th>shiga</th>\n",
       "      <td>-1.0</td>\n",
       "      <td>0.0</td>\n",
       "      <td>1.0</td>\n",
       "    </tr>\n",
       "  </tbody>\n",
       "</table>\n",
       "</div>"
      ],
      "text/plain": [
       "         b    d    e\n",
       "osaka -1.0  0.0  1.0\n",
       "kyoto -1.0  0.0  1.0\n",
       "Nara  -1.0  0.0  1.0\n",
       "shiga -1.0  0.0  1.0"
      ]
     },
     "execution_count": 177,
     "metadata": {},
     "output_type": "execute_result"
    }
   ],
   "source": [
    "frame=pd.DataFrame(np.arange(12.).reshape((4,3)),\n",
    "                                        columns=list(\"bde\"),\n",
    "                                        index=[\"osaka\",\"kyoto\",\"Nara\",\"shiga\"])\n",
    "series=frame.iloc[0]\n",
    "series\n",
    "frame-series\n",
    "\n",
    "# if an index value is not found in either DataFrame and Series matches the index of the series on the DataFrame columns broadcasting down the rows:\n",
    "series2=pd.Series(range(3),index=[\"b\",\"e\",\"f\"])\n",
    "frame+series2\n",
    "series3=frame[\"d\"]\n",
    "series3\n",
    "\n",
    "frame.sub(series3,axis=\"index\")"
   ]
  }
 ],
 "metadata": {
  "kernelspec": {
   "display_name": "Python 3",
   "language": "python",
   "name": "python3"
  },
  "language_info": {
   "codemirror_mode": {
    "name": "ipython",
    "version": 3
   },
   "file_extension": ".py",
   "mimetype": "text/x-python",
   "name": "python",
   "nbconvert_exporter": "python",
   "pygments_lexer": "ipython3",
   "version": "3.10.0"
  }
 },
 "nbformat": 4,
 "nbformat_minor": 5
}
